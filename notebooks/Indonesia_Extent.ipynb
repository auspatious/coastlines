{
 "cells": [
  {
   "cell_type": "code",
   "execution_count": null,
   "metadata": {},
   "outputs": [],
   "source": [
    "import os\n",
    "\n",
    "import geopandas as gpd\n",
    "import pandas as pd\n",
    "from odc.geo import BoundingBox\n",
    "\n",
    "from coastlines.grids import INDONESIA_25, INDONESIA_CRS\n",
    "\n",
    "os.environ[\"USE_PYGEOS\"] = \"0\""
   ]
  },
  {
   "cell_type": "code",
   "execution_count": null,
   "metadata": {},
   "outputs": [],
   "source": [
    "# Select relevant tiles and convert to Geopandas\n",
    "bounds = BoundingBox(94, -11, 142, 6, crs=\"EPSG:4326\").to_crs(INDONESIA_CRS)\n",
    "geom = INDONESIA_25.geojson(bbox=bounds)\n",
    "tiles_projected = gpd.GeoDataFrame.from_features(geom, crs=\"EPSG:4326\").to_crs(\n",
    "    INDONESIA_CRS\n",
    ")\n",
    "\n",
    "tiles_projected.explore()"
   ]
  },
  {
   "cell_type": "code",
   "execution_count": null,
   "metadata": {},
   "outputs": [],
   "source": [
    "# Get Indonesion boundaries from humdata\n",
    "# https://data.humdata.org/dataset/geoboundaries-admin-boundaries-for-indonesia\n",
    "# Indonesia full extent\n",
    "# url = \"https://s3.ap-southeast-2.amazonaws.com/files.auspatious.com/coastlines/geoBoundaries-IDN-ADM0_simplified.geojson\"\n",
    "# Indonesia sample sites\n",
    "url = \"https://s3.ap-southeast-2.amazonaws.com/files.auspatious.com/coastlines/INDO_STUDY_AREA_REFINED.geojson\"\n",
    "indo_adm = gpd.read_file(url)\n",
    "\n",
    "indo_adm.explore()"
   ]
  },
  {
   "cell_type": "code",
   "execution_count": null,
   "metadata": {},
   "outputs": [],
   "source": [
    "# Prepare a dataset that contains continental coastlines with a 15 km buffer\n",
    "area_limit = 1e9\n",
    "indo = indo_adm.to_crs(INDONESIA_CRS)\n",
    "small_islands = indo[indo.geometry.area < area_limit]\n",
    "large_islands = indo[indo.geometry.area >= area_limit]\n",
    "\n",
    "# Buffer the long coastlines boundaries\n",
    "coast = large_islands.boundary.buffer(15_000)\n",
    "# And the small islands\n",
    "islands = small_islands.buffer(15_000)\n",
    "\n",
    "# Now merge them together\n",
    "buffered = pd.concat([coast, islands])\n",
    "\n",
    "aoi = gpd.GeoDataFrame(buffered, geometry=buffered.geometry).dissolve()\n",
    "aoi.explore()"
   ]
  },
  {
   "cell_type": "code",
   "execution_count": null,
   "metadata": {},
   "outputs": [],
   "source": [
    "\n",
    "# Clip tiles to AOI\n",
    "coastal_tiles = tiles_projected.clip(aoi)\n",
    "coastal_tiles.explore()\n"
   ]
  },
  {
   "cell_type": "code",
   "execution_count": null,
   "metadata": {},
   "outputs": [],
   "source": [
    "# Dump a simple list of all tile_ids in a text file\n",
    "coastal_tiles[\"idx\"].to_csv(\n",
    "    \"../data/raw/indonesia_sample_tile_ids.txt\", index=False, header=False\n",
    ")"
   ]
  },
  {
   "cell_type": "code",
   "execution_count": null,
   "metadata": {},
   "outputs": [],
   "source": [
    "# These tiles can be removed safely\n",
    "SKIP_TILES = [\n",
    "    # Edges and tiny areas\n",
    "    \"-98,-12\",\n",
    "    \"-96,-13\",\n",
    "    \"-65,-16\",\n",
    "    \"-66,-17\",\n",
    "    \"-67,-16\",\n",
    "    \"-60,-23\",\n",
    "    \"-62,-24\",\n",
    "    \"-59,-24\",\n",
    "    \"-62,-25\",\n",
    "    \"-65,-17\",\n",
    "    \"-67,-13\",\n",
    "    \"-67,-14\",\n",
    "    # inland...\n",
    "    \"-95,-14\",\n",
    "    \"-98,-15\",\n",
    "    \"-97,-15\",\n",
    "    \"-96,-15\",\n",
    "    \"-95,-15\",\n",
    "]\n",
    "\n",
    "\n",
    "coastal_tiles_filtered = coastal_tiles[~coastal_tiles[\"idx\"].isin(SKIP_TILES)]\n",
    "coastal_tiles_filtered.explore()"
   ]
  },
  {
   "cell_type": "code",
   "execution_count": null,
   "metadata": {},
   "outputs": [],
   "source": [
    "# Export the results as GeoJSON\n",
    "coastal_tiles_filtered.rename(columns={\"idx\": \"id\"}, inplace=True)\n",
    "coastal_tiles_filtered.to_crs(\"EPSG:4326\").to_file(\n",
    "    \"../data/raw/indonesia_tiles.geojson\", driver=\"GeoJSON\"\n",
    ")"
   ]
  }
 ],
 "metadata": {
  "kernelspec": {
   "display_name": "coastlines",
   "language": "python",
   "name": "python3"
  },
  "language_info": {
   "codemirror_mode": {
    "name": "ipython",
    "version": 3
   },
   "file_extension": ".py",
   "mimetype": "text/x-python",
   "name": "python",
   "nbconvert_exporter": "python",
   "pygments_lexer": "ipython3",
   "version": "3.11.11"
  }
 },
 "nbformat": 4,
 "nbformat_minor": 2
}
