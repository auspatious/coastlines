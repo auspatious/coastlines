{
 "cells": [
  {
   "cell_type": "code",
   "execution_count": null,
   "metadata": {},
   "outputs": [],
   "source": [
    "import geopandas as gpd\n",
    "\n",
    "from coastlines.utils import STYLES_FILE"
   ]
  },
  {
   "cell_type": "code",
   "execution_count": null,
   "metadata": {},
   "outputs": [],
   "source": [
    "styles = gpd.read_file(STYLES_FILE, KEEP_GEOM_COLUMNS=False, GEOM_POSSIBLE_NAMES=\"geometry\")\n",
    "styles"
   ]
  },
  {
   "cell_type": "code",
   "execution_count": null,
   "metadata": {},
   "outputs": [],
   "source": [
    "geopackage = \"/Users/alex/Data/Coastlines/coastlines_0.8.1.gpkg\"\n",
    "styles.to_file(geopackage, layer=\"layer_styles\", driver=\"GPKG\", overwrite=True)"
   ]
  },
  {
   "cell_type": "code",
   "execution_count": null,
   "metadata": {},
   "outputs": [],
   "source": [
    "loaded_styles = gpd.read_file(geopackage, layer=\"layer_styles\")\n",
    "loaded_styles\n",
    "\n",
    "# loaded_styles.to_csv(STYLES_FILE)"
   ]
  }
 ],
 "metadata": {
  "kernelspec": {
   "display_name": "Python 3",
   "language": "python",
   "name": "python3"
  },
  "language_info": {
   "codemirror_mode": {
    "name": "ipython",
    "version": 3
   },
   "file_extension": ".py",
   "mimetype": "text/x-python",
   "name": "python",
   "nbconvert_exporter": "python",
   "pygments_lexer": "ipython3",
   "version": "3.11.6"
  }
 },
 "nbformat": 4,
 "nbformat_minor": 2
}
