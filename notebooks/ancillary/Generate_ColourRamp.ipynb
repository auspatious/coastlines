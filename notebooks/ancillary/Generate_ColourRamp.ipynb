{
 "cells": [
  {
   "cell_type": "code",
   "execution_count": null,
   "metadata": {},
   "outputs": [],
   "source": [
    "import matplotlib as mpl"
   ]
  },
  {
   "cell_type": "code",
   "execution_count": null,
   "metadata": {},
   "outputs": [],
   "source": [
    "year_range = range(1985, 2024)\n",
    "\n",
    "# Get a mpl colour ramp for inferno and convert it to a list of hex codes for each year\n",
    "cmap = mpl.cm.get_cmap(\"inferno\", len(year_range))\n",
    "hex_codes = [mpl.colors.rgb2hex(cmap(i)) for i in range(cmap.N)]\n",
    "\n",
    "# Print the hex codes\n",
    "for year, hex_code in zip(year_range, hex_codes):\n",
    "    print(f\"{year}: {hex_code}\")"
   ]
  },
  {
   "cell_type": "code",
   "execution_count": null,
   "metadata": {},
   "outputs": [],
   "source": []
  }
 ],
 "metadata": {
  "kernelspec": {
   "display_name": "Python 3",
   "language": "python",
   "name": "python3"
  },
  "language_info": {
   "codemirror_mode": {
    "name": "ipython",
    "version": 3
   },
   "file_extension": ".py",
   "mimetype": "text/x-python",
   "name": "python",
   "nbconvert_exporter": "python",
   "pygments_lexer": "ipython3",
   "version": "3.11.6"
  }
 },
 "nbformat": 4,
 "nbformat_minor": 2
}
