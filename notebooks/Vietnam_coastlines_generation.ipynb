{
 "cells": [
  {
   "cell_type": "markdown",
   "metadata": {},
   "source": [
    "# Vietnam Coastlines Combined\n",
    "\n",
    "\n",
    "* Load stack of all available Landsat 5, 7, 8 and 9 satellite imagery for a location \n",
    "* Convert each satellite image into a remote sensing water index (MNDWI)\n",
    "* For each satellite image, model ocean tides into a grid based on exact time of image acquisition\n",
    "* Interpolate tide heights into spatial extent of image stack using the [FES2014 global tide model](https://github.com/GeoscienceAustralia/dea-coastlines/wiki/Setting-up-tidal-models-for-DEA-Coastlines)\n",
    "* Mask out high and low tide pixels by removing all observations acquired outside of 50 percent of the observed tidal range centered over mean sea level\n",
    "* Combine tidally-masked data into annual median composites representing the most representative position of the coastline at approximately mean sea level each year\n",
    "* Apply morphological extraction algorithms to mask annual median composite rasters to a valid coastal region\n",
    "* Extract waterline vectors using subpixel waterline extraction ([Bishop-Taylor et al. 2019b](https://doi.org/10.3390/rs11242984))\n",
    "* Compute rates of coastal change at every 30 m using linear regression\n",
    "\n",
    "This is an interactive version of the code intended for prototyping; to run this analysis at scale, use the [command line tools](DEACoastlines_generation_CLI.ipynb).\n",
    "\n",
    "---"
   ]
  },
  {
   "cell_type": "markdown",
   "metadata": {},
   "source": [
    "## Getting started\n",
    "\n",
    "Set working directory to top level of repository to ensure links work correctly:"
   ]
  },
  {
   "cell_type": "code",
   "execution_count": null,
   "metadata": {
    "tags": []
   },
   "outputs": [],
   "source": [
    "cd .."
   ]
  },
  {
   "cell_type": "markdown",
   "metadata": {},
   "source": [
    "### Load packages\n",
    "\n",
    "First we import the required Python packages, then we connect to the database, and load the catalog of virtual products."
   ]
  },
  {
   "cell_type": "code",
   "execution_count": null,
   "metadata": {
    "tags": []
   },
   "outputs": [],
   "source": [
    "%matplotlib inline\n",
    "%load_ext autoreload\n",
    "%autoreload 2"
   ]
  },
  {
   "cell_type": "code",
   "execution_count": null,
   "metadata": {
    "tags": []
   },
   "outputs": [],
   "source": [
    "import os\n",
    "\n",
    "os.environ[\"USE_PYGEOS\"] = \"0\"\n",
    "\n",
    "# Load DEA Coastlines and DEA tools code\n",
    "from coastlines.utils import get_study_site_geometry, load_config\n",
    "from coastlines.combined import (\n",
    "    load_and_mask_data_with_stac,\n",
    "    export_results,\n",
    "    filter_by_tides,\n",
    "    generate_yearly_composites,\n",
    "    mask_pixels_by_tide,\n",
    "    sanitise_tile_id,\n",
    "    mask_pixels_by_hillshadow,\n",
    "    CoastlinesException,\n",
    ")\n",
    "from coastlines.vector import (\n",
    "    contours_preprocess,\n",
    "    contour_certainty,\n",
    "    points_certainty,\n",
    ")\n",
    "from coastlines.continental import (\n",
    "    generate_hotspots,\n",
    ")\n",
    "\n",
    "# Load other libraries\n",
    "from pathlib import Path\n",
    "import geopandas as gpd\n",
    "from datacube.utils.dask import start_local_dask\n",
    "from dea_tools.spatial import subpixel_contours\n",
    "from odc.stac import configure_s3_access"
   ]
  },
  {
   "cell_type": "code",
   "execution_count": null,
   "metadata": {},
   "outputs": [],
   "source": [
    "# Hide warnings. Don't run this cell to see the warnings.\n",
    "import warnings\n",
    "\n",
    "warnings.filterwarnings(\"ignore\")"
   ]
  },
  {
   "cell_type": "code",
   "execution_count": null,
   "metadata": {
    "tags": []
   },
   "outputs": [],
   "source": [
    "# Create local dask client for parallelisation\n",
    "dask_client = start_local_dask(\n",
    "    n_workers=4, threads_per_worker=8, mem_safety_margin=\"2GB\"\n",
    ")\n",
    "\n",
    "# Configure S3 access including request payer\n",
    "_ = configure_s3_access(requester_pays=True, cloud_defaults=True)\n",
    "\n",
    "print(\n",
    "    dask_client.dashboard_link.replace(\n",
    "        \"/user\", \"https://hub.asia.easi-eo.solutions/user\"\n",
    "    )\n",
    ")"
   ]
  },
  {
   "cell_type": "markdown",
   "metadata": {
    "tags": []
   },
   "source": [
    "## Setup\n"
   ]
  },
  {
   "cell_type": "markdown",
   "metadata": {},
   "source": [
    "### Set analysis parameters"
   ]
  },
  {
   "cell_type": "code",
   "execution_count": null,
   "metadata": {
    "tags": []
   },
   "outputs": [],
   "source": [
    "# Study area selection\n",
    "# study_area = \"13,45\" # North\n",
    "# study_area = \"9,19\"  # South west\n",
    "# study_area = \"18,32\" # Central\n",
    "\n",
    "# Issues!\n",
    "# study_area = \"24,36\"  # Too much noise still\n",
    "\n",
    "study_area = \"33,22\"  # Missing half the island\n",
    "\n",
    "# Config\n",
    "version = \"testing\"\n",
    "config_path = \"configs/vietnam_coastlines_config_development.yaml\"\n",
    "config = load_config(config_path)\n",
    "\n",
    "# Tide data and config\n",
    "home = Path(\"~\")\n",
    "tide_data_location = f\"{home}/tide_models\"\n",
    "\n",
    "# Output config\n",
    "output_dir = Path(\n",
    "    f\"{config.output.location.rstrip('/')}/{version}/{sanitise_tile_id(study_area)}_{version}\"\n",
    ")\n",
    "output_dir.mkdir(exist_ok=True, parents=True)\n",
    "output_cache_zarr = (\n",
    "    output_dir / f\"{sanitise_tile_id(study_area)}_{version}_combined_ds.zarr\"\n",
    ")\n",
    "\n",
    "# Load the geometry from the grid used for the location\n",
    "geometry = get_study_site_geometry(config.input.grid_path, study_area)\n",
    "\n",
    "# BBOX and other query parameters\n",
    "bbox = list(\n",
    "    geometry.to_crs(config.output.crs)\n",
    "    .buffer(config.options.load_buffer_distance)\n",
    "    .to_crs(\"EPSG:4326\")\n",
    "    .bounds.values[0]\n",
    ")\n",
    "\n",
    "# Use the USGS STAC API to identify scenes to load\n",
    "query = {\n",
    "    \"bbox\": bbox,\n",
    "    \"datetime\": (str(config.options.start_year - 1), str(config.options.end_year + 1)),\n",
    "}"
   ]
  },
  {
   "cell_type": "code",
   "execution_count": null,
   "metadata": {},
   "outputs": [],
   "source": [
    "# View the AoI\n",
    "geometry.explore(\n",
    "    tiles=\"https://server.arcgisonline.com/ArcGIS/rest/services/World_Imagery/MapServer/tile/{z}/{y}/{x}\",\n",
    "    attr=\"Esri\",\n",
    "    name=\"Esri Satellite\",\n",
    ")"
   ]
  },
  {
   "cell_type": "markdown",
   "metadata": {},
   "source": [
    "## Loading data\n",
    "\n",
    "### Create spatiotemporal query using a STAC API as the backend\n",
    "This establishes the spatial and temporal extent used to search for Landsat satellite data.\n"
   ]
  },
  {
   "cell_type": "code",
   "execution_count": null,
   "metadata": {
    "tags": []
   },
   "outputs": [],
   "source": [
    "# Load the data, mask it and generate composites.\n",
    "# This is lazy-loaded, so no data is actually loaded yet.\n",
    "ds, items = load_and_mask_data_with_stac(\n",
    "    config, query, include_nir=True, optimise_combined=True\n",
    ")\n",
    "\n",
    "print(f\"Found {len(items)} items\")\n",
    "\n",
    "ds"
   ]
  },
  {
   "cell_type": "markdown",
   "metadata": {},
   "source": [
    "## Tidal modelling\n"
   ]
  },
  {
   "cell_type": "markdown",
   "metadata": {
    "tags": []
   },
   "source": [
    "### Interpolate tides into each satellite timestep\n",
    "For each satellite timestep, model tide heights into a low-resolution 5 x 5 km grid (matching resolution of the FES2014 tidal model), then reproject modelled tides into the spatial extent of our satellite image. Add  this new data as a new variable in our satellite dataset to allow each satellite pixel to be analysed and filtered/masked based on the tide height at the exact moment of satellite image acquisition. "
   ]
  },
  {
   "cell_type": "code",
   "execution_count": null,
   "metadata": {
    "tags": []
   },
   "outputs": [],
   "source": [
    "filtered = filter_by_tides(ds, tide_data_location, tide_centre)\n",
    "\n",
    "print(\n",
    "    f\"Dropped {len(ds.time) - len(filtered.time)} out of {len(ds.time)} timesteps due to extreme tides\"\n",
    ")"
   ]
  },
  {
   "cell_type": "markdown",
   "metadata": {},
   "source": [
    "## Generate yearly composites in memory\n",
    "Export tidally-masked MNDWI median composites for each year, and three-yearly composites used to gapfill poor data coverage areas."
   ]
  },
  {
   "cell_type": "code",
   "execution_count": null,
   "metadata": {
    "tags": []
   },
   "outputs": [],
   "source": [
    "# Optionally load the daily dataset into memory, either do this here or\n",
    "# down below for the combined dataset. This takes more memory, but is\n",
    "# faster. The below one results in a big, complex dask graph, but saves\n",
    "# a fair bit of memory.\n",
    "filtered = filtered.compute()\n",
    "filtered"
   ]
  },
  {
   "cell_type": "markdown",
   "metadata": {},
   "source": [
    "## Specific masking\n",
    "\n",
    "First we do a per-pixel mask of the extreme tide pixels. This is done with data loaded into memory, to keep things efficient on memory and dask graphs.\n",
    "\n",
    "The graph below shows the percentage of data remaining each year after per-pixel masking.\n",
    "\n",
    "Second we do per-pixel hillshadow masking.\n",
    "\n",
    "### Per-pixel tide masking"
   ]
  },
  {
   "cell_type": "code",
   "execution_count": null,
   "metadata": {},
   "outputs": [],
   "source": [
    "# Per-pixel tide masking\n",
    "pixel_tide_masked = mask_pixels_by_tide(filtered, tide_data_location, tide_centre)"
   ]
  },
  {
   "cell_type": "code",
   "execution_count": null,
   "metadata": {},
   "outputs": [],
   "source": [
    "# Plot the percentage of pixels remaining after high-res tide masking\n",
    "filter_null_byyear = (\n",
    "    filtered[water_index].isnull().groupby(\"time.year\").sum(dim=[\"time\", \"x\", \"y\"])\n",
    ")\n",
    "masked_null_byyear = (\n",
    "    pixel_tide_masked[water_index]\n",
    "    .isnull()\n",
    "    .groupby(\"time.year\")\n",
    "    .sum(dim=[\"time\", \"x\", \"y\"])\n",
    ")\n",
    "diff = (filter_null_byyear / masked_null_byyear) * 100\n",
    "diff.plot.line(x=\"year\", ylim=[0, 100], figsize=(12, 4), yticks=range(0, 101, 20))"
   ]
  },
  {
   "cell_type": "markdown",
   "metadata": {},
   "source": [
    "### Per-pixel hillshade masking\n",
    "\n",
    "(Optional)"
   ]
  },
  {
   "cell_type": "code",
   "execution_count": null,
   "metadata": {},
   "outputs": [],
   "source": [
    "# Run a hillshade masking step. This is optional, but can help remove\n",
    "# some noisy pixels from the analysis.\n",
    "try:\n",
    "    pixel_tide_masked, hillshade = mask_pixels_by_hillshadow(\n",
    "        pixel_tide_masked, items, debug=True\n",
    "    )\n",
    "except CoastlinesException as e:\n",
    "    print(\"No DEM available for this area. Skipping hillshade masking.\")"
   ]
  },
  {
   "cell_type": "code",
   "execution_count": null,
   "metadata": {},
   "outputs": [],
   "source": [
    "# In the below plot, anything that isn't a `0` has had some\n",
    "# pixels masked out due to hillshade.\n",
    "mean_hs = hillshade.mean(dim=\"time\")\n",
    "mean_hs.plot.imshow(size=10, vmin=0, vmax=1)"
   ]
  },
  {
   "cell_type": "code",
   "execution_count": null,
   "metadata": {},
   "outputs": [],
   "source": [
    "# Plot the percentage of pixels remaining after hillshade masking\n",
    "shaded_null_byyear = (\n",
    "    pixel_tide_masked[water_index]\n",
    "    .isnull()\n",
    "    .groupby(\"time.year\")\n",
    "    .sum(dim=[\"time\", \"x\", \"y\"])\n",
    ")\n",
    "diff = (masked_null_byyear / shaded_null_byyear) * 100\n",
    "diff.plot.line(x=\"year\", ylim=[0, 100], figsize=(12, 4), yticks=range(0, 101, 20))"
   ]
  },
  {
   "cell_type": "markdown",
   "metadata": {},
   "source": [
    "## Create annual composites"
   ]
  },
  {
   "cell_type": "code",
   "execution_count": null,
   "metadata": {},
   "outputs": [],
   "source": [
    "# Create a yearly dataset, loaded into memory. This takes a long time!\n",
    "combined_ds = generate_yearly_composites(\n",
    "    pixel_tide_masked, start_year, end_year, water_index=water_index, include_nir=True\n",
    ")\n",
    "\n",
    "# Load the combined dataset instead. Make sure you comment out the filtered\n",
    "# load step. This will take longer, but use less memory.\n",
    "# combined_ds = combined_ds.compute()\n",
    "combined_ds"
   ]
  },
  {
   "cell_type": "code",
   "execution_count": null,
   "metadata": {},
   "outputs": [],
   "source": [
    "# Uncomment the below to save data\n",
    "\n",
    "# if output_cache_zarr.exists():\n",
    "#     import shutil\n",
    "\n",
    "#     print(f\"Folder {output_cache_zarr} already exists. Deleting...\")\n",
    "#     shutil.rmtree(output_cache_zarr)\n",
    "\n",
    "# combined_ds.to_zarr(output_cache_zarr)"
   ]
  },
  {
   "cell_type": "code",
   "execution_count": null,
   "metadata": {},
   "outputs": [],
   "source": [
    "# Uncomment the below to load data\n",
    "\n",
    "# combined_ds = xr.open_zarr(output_cache_zarr).load()\n",
    "# combined_ds"
   ]
  },
  {
   "cell_type": "markdown",
   "metadata": {},
   "source": [
    "## Load vector data and pre-process raster data"
   ]
  },
  {
   "cell_type": "code",
   "execution_count": null,
   "metadata": {
    "tags": []
   },
   "outputs": [],
   "source": [
    "# Coastal mask modifications with \"add\" and \"remove\" areas\n",
    "modifications_gdf = gpd.read_file(\n",
    "    \"/home/ubuntu/dea-coastlines/data/raw/vietnam_modifications.geojson\", bbox=bbox\n",
    ").to_crs(str(combined_ds.odc.crs))\n",
    "\n",
    "# Mask dataset to focus on coastal zone only\n",
    "(\n",
    "    masked_ds,\n",
    "    certainty_masks,\n",
    "    all_time_20,\n",
    "    all_time_80,\n",
    "    river_mask,\n",
    "    ocean_da,\n",
    "    thresholded_ds,\n",
    "    temporal_mask,\n",
    "    annual_mask,\n",
    "    coastal_mask,\n",
    "    ocean_mask,\n",
    ") = contours_preprocess(\n",
    "    combined_ds=combined_ds,\n",
    "    water_index=water_index,\n",
    "    index_threshold=index_threshold,\n",
    "    buffer_pixels=33,\n",
    "    modifications_gdf=modifications_gdf,\n",
    "    include_nir=True,\n",
    "    debug=True,\n",
    ")\n",
    "\n",
    "# Plot a single timestep\n",
    "masked_ds.isel(year=0).plot.imshow(size=8, cmap=\"RdBu_r\")"
   ]
  },
  {
   "cell_type": "code",
   "execution_count": null,
   "metadata": {},
   "outputs": [],
   "source": [
    "ocean_da.plot.imshow(size=8, cmap=\"RdBu\")"
   ]
  },
  {
   "cell_type": "code",
   "execution_count": null,
   "metadata": {
    "tags": []
   },
   "outputs": [],
   "source": [
    "# Extract shorelines\n",
    "contours = subpixel_contours(\n",
    "    da=masked_ds,\n",
    "    z_values=index_threshold,\n",
    "    min_vertices=10,\n",
    "    dim=\"year\",\n",
    ").set_index(\"year\")\n",
    "\n",
    "# Add quality measures\n",
    "contours_with_certainty = contour_certainty(contours, certainty_masks)"
   ]
  },
  {
   "cell_type": "code",
   "execution_count": null,
   "metadata": {},
   "outputs": [],
   "source": [
    "# Plot shorelines\n",
    "contours_with_certainty.reset_index().explore(\n",
    "    tiles=\"https://server.arcgisonline.com/ArcGIS/rest/services/World_Imagery/MapServer/tile/{z}/{y}/{x}\",\n",
    "    attr=\"Esri\",\n",
    "    name=\"Esri Satellite\",\n",
    "    column=\"year\",\n",
    "    cmap=\"magma\",\n",
    ")"
   ]
  },
  {
   "cell_type": "markdown",
   "metadata": {},
   "source": [
    "## Compute statistics\n",
    "\n",
    "### Measure annual coastline movements"
   ]
  },
  {
   "cell_type": "code",
   "execution_count": null,
   "metadata": {},
   "outputs": [],
   "source": [
    "from coastlines.combined import extract_points_with_movements\n",
    "\n",
    "points = extract_points_with_movements(\n",
    "    combined_ds, contours_with_certainty, baseline_year, start_year, end_year\n",
    ")"
   ]
  },
  {
   "cell_type": "code",
   "execution_count": null,
   "metadata": {
    "tags": []
   },
   "outputs": [],
   "source": [
    "geomorphology_url = config.input.geomorphology_path\n",
    "geomorphology_gdf = gpd.read_file(\n",
    "    geomorphology_url,\n",
    "    mask=geometry,\n",
    ")\n",
    "\n",
    "# And add certainty\n",
    "points_with_certainty = points_certainty(\n",
    "    points,\n",
    "    geomorphology_gdf=geomorphology_gdf,\n",
    "    baseline_year=baseline_year,\n",
    "    rocky_query=\"(Preds == 'Bedrock') and (Probs > 0.75)\",\n",
    ")"
   ]
  },
  {
   "cell_type": "code",
   "execution_count": null,
   "metadata": {},
   "outputs": [],
   "source": [
    "# Generate hotspots\n",
    "hotspots = generate_hotspots(\n",
    "    contours_with_certainty, points_with_certainty, [10000, 5000, 1000], baseline_year\n",
    ")\n",
    "\n",
    "# Visualise the 10_000 m hotspots\n",
    "hotspots[0].explore(\n",
    "    tiles=\"https://server.arcgisonline.com/ArcGIS/rest/services/World_Imagery/MapServer/tile/{z}/{y}/{x}\",\n",
    "    attr=\"Esri\",\n",
    "    name=\"Esri Satellite\",\n",
    "    column=\"rate_time\",\n",
    "    cmap=\"RdYlGn\",\n",
    "    marker_kwds={\n",
    "        \"radius\": 10,\n",
    "        \"fill_opacity\": 0.8,\n",
    "    },\n",
    ")"
   ]
  },
  {
   "cell_type": "markdown",
   "metadata": {},
   "source": [
    "## Export files"
   ]
  },
  {
   "cell_type": "code",
   "execution_count": null,
   "metadata": {
    "tags": []
   },
   "outputs": [],
   "source": [
    "clipped_points_gdf = points_with_certainty.clip(\n",
    "    geometry.to_crs(points_with_certainty.crs)\n",
    ")\n",
    "clipped_contours_gdf = contours_with_certainty.clip(\n",
    "    geometry.to_crs(contours_with_certainty.crs)\n",
    ")\n",
    "\n",
    "out_files = export_results(\n",
    "    clipped_points_gdf, clipped_contours_gdf, version, str(output_dir), study_area\n",
    ")\n",
    "\n",
    "for out_file in out_files:\n",
    "    print(f\"Exported {out_file}\")"
   ]
  },
  {
   "cell_type": "markdown",
   "metadata": {},
   "source": [
    "### Close Dask client"
   ]
  },
  {
   "cell_type": "code",
   "execution_count": null,
   "metadata": {
    "tags": []
   },
   "outputs": [],
   "source": [
    "dask_client.close()"
   ]
  },
  {
   "cell_type": "markdown",
   "metadata": {
    "tags": []
   },
   "source": [
    "***\n",
    "\n",
    "## Additional information"
   ]
  },
  {
   "cell_type": "markdown",
   "metadata": {},
   "source": [
    "**License:** The code in this notebook is licensed under the [Apache License, Version 2.0](https://www.apache.org/licenses/LICENSE-2.0). \n",
    "Digital Earth Australia data is licensed under the [Creative Commons by Attribution 4.0](https://creativecommons.org/licenses/by/4.0/) license.\n",
    "\n",
    "**Contact:** For assistance with any of the Python code or Jupyter Notebooks in this repository, please post a [Github issue](https://github.com/GeoscienceAustralia/dea-coastlines/issues/new).\n",
    "\n",
    "**Last modified:** November 2022\n",
    "\n",
    "**To cite:**\n",
    "\n",
    "> Bishop-Taylor, R., Nanson, R., Sagar, S., Lymburner, L. (2021). Mapping Australia's dynamic coastline at mean sea level using three decades of Landsat imagery. Remote Sensing of Environment, 267, 112734. Available: https://doi.org/10.1016/j.rse.2021.112734\n",
    ">\n",
    "> Nanson, R., Bishop-Taylor, R., Sagar, S., Lymburner, L., (2022). Geomorphic insights into Australia's coastal change using a national dataset derived from the multi-decadal Landsat archive. Estuarine, Coastal and Shelf Science, 265, p.107712. Available: https://doi.org/10.1016/j.ecss.2021.107712\n",
    ">\n",
    "> Bishop-Taylor, R., Sagar, S., Lymburner, L., Alam, I., Sixsmith, J. (2019). Sub-pixel waterline extraction: characterising accuracy and sensitivity to indices and spectra. Remote Sensing, 11 (24):2984. Available: https://doi.org/10.3390/rs11242984"
   ]
  }
 ],
 "metadata": {
  "kernelspec": {
   "display_name": "Python 3 (ipykernel)",
   "language": "python",
   "name": "python3"
  },
  "language_info": {
   "codemirror_mode": {
    "name": "ipython",
    "version": 3
   },
   "file_extension": ".py",
   "mimetype": "text/x-python",
   "name": "python",
   "nbconvert_exporter": "python",
   "pygments_lexer": "ipython3",
   "version": "3.10.12"
  },
  "widgets": {
   "application/vnd.jupyter.widget-state+json": {
    "state": {},
    "version_major": 2,
    "version_minor": 0
   }
  }
 },
 "nbformat": 4,
 "nbformat_minor": 4
}
