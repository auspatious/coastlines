{
 "cells": [
  {
   "cell_type": "code",
   "execution_count": null,
   "metadata": {},
   "outputs": [],
   "source": [
    "import os\n",
    "\n",
    "os.environ[\"USE_PYGEOS\"] = \"0\"\n",
    "\n",
    "import geopandas as gpd\n",
    "import pandas as pd\n",
    "from odc.geo import XY, BoundingBox\n",
    "from odc.geo.gridspec import GridSpec"
   ]
  },
  {
   "cell_type": "code",
   "execution_count": null,
   "metadata": {},
   "outputs": [],
   "source": [
    "# Create a gridspec for Vietnam\n",
    "vietnam_epsg = \"EPSG:3405\"\n",
    "vietnam_gridspec = GridSpec(crs=vietnam_epsg, tile_shape=(2000,2000), resolution=25, origin=XY(0, 0))"
   ]
  },
  {
   "cell_type": "code",
   "execution_count": null,
   "metadata": {},
   "outputs": [],
   "source": [
    "# Select relevant tiles and convert to Geopandas\n",
    "bounds = BoundingBox(100, 0, 125, 25, crs=\"EPSG:4326\").to_crs(vietnam_epsg)\n",
    "geom = vietnam_gridspec.geojson(bbox=bounds)\n",
    "tiles_projected = gpd.GeoDataFrame.from_features(geom, crs=\"EPSG:4326\").to_crs(vietnam_epsg)"
   ]
  },
  {
   "cell_type": "code",
   "execution_count": null,
   "metadata": {},
   "outputs": [],
   "source": [
    "# Get the Natural Earth country boundaries dataset\n",
    "ne_url = \"https://naciscdn.org/naturalearth/10m/cultural/ne_10m_admin_0_countries.zip\"\n",
    "natural_earth_10m = gpd.read_file(ne_url)"
   ]
  },
  {
   "cell_type": "code",
   "execution_count": null,
   "metadata": {},
   "outputs": [],
   "source": [
    "# Prepare a dataset that contains continental coastlines with a 15 km buffer\n",
    "vietnam = natural_earth_10m[natural_earth_10m[\"ADMIN\"] == \"Vietnam\"].to_crs(vietnam_epsg)\n",
    "asia = natural_earth_10m[natural_earth_10m[\"CONTINENT\"] == \"Asia\"]\n",
    "asia_coast = asia.dissolve().boundary.to_crs(vietnam_epsg)\n",
    "asia_coast_buffer = asia_coast.buffer(15_000)\n",
    "\n",
    "# Pick out coasts that are within 50 km of Vietnam\n",
    "vietnam_coasts = vietnam.buffer(50_000).clip(asia_coast_buffer.set_crs(vietnam_epsg))"
   ]
  },
  {
   "cell_type": "code",
   "execution_count": null,
   "metadata": {},
   "outputs": [],
   "source": [
    "# Use OpenStreetMap data for small islands excluded from NE coastlines\n",
    "# Download the OSM global land polygons from https://osmdata.openstreetmap.de/data/land-polygons.html\n",
    "# Manually edit the downloaded file \"land_polygons.shp\" to include only features of interest\n",
    "# Save the coastline of interest as geojson file at \"data/raw/osm_islands.geojson\"\n",
    "# Open the coastline geojson file using fiona\n",
    "osm_islands_polygon = gpd.read_file(\"../data/raw/osm_islands.geojson\")\n",
    "osm_islands_polygon.set_crs(\"EPSG:4326\")\n",
    "osm_islands_polygon = osm_islands_polygon.to_crs(vietnam_epsg)\n",
    "\n",
    "# Buffer polygons to 15 km\n",
    "osm_islands_buffer = osm_islands_polygon.buffer(15_000)"
   ]
  },
  {
   "cell_type": "code",
   "execution_count": null,
   "metadata": {},
   "outputs": [],
   "source": [
    "# Include remaining very small islands with data from https://amti.csis.org/scs-features-map/\n",
    "# Filter the downloaded file \"All_SCS_Features.gpkg\" using Rock = 'Y' and manually edit the file to include only features of interest\n",
    "# Save the points as geojson file at \"data/raw/amti_islands.geojson\n",
    "# Read data\n",
    "amti_islands_point = gpd.read_file(\"../data/raw/amti_islands.geojson\")\n",
    "amti_islands_point.set_crs(\"EPSG:4326\")\n",
    "amti_islands_point = amti_islands_point.to_crs(vietnam_epsg)\n",
    "\n",
    "# Buffer points to 15 km\n",
    "amti_islands_buffer = amti_islands_point.buffer(15_000)"
   ]
  },
  {
   "cell_type": "code",
   "execution_count": null,
   "metadata": {},
   "outputs": [],
   "source": [
    "# Define AOI as union of continental and island datasets\n",
    "aoi = gpd.GeoDataFrame(pd.concat([osm_islands_buffer, amti_islands_buffer, vietnam_coasts], ignore_index=True), geometry=0).unary_union"
   ]
  },
  {
   "cell_type": "code",
   "execution_count": null,
   "metadata": {},
   "outputs": [],
   "source": [
    "# Clip tiles to AOI\n",
    "vietnam_coastal_tiles_clipped = tiles_projected.clip(aoi)"
   ]
  },
  {
   "cell_type": "code",
   "execution_count": null,
   "metadata": {},
   "outputs": [],
   "source": [
    "# These tiles can be removed safely\n",
    "SKIP_TILES = [\n",
    "    # Slivers and empty tiles\n",
    "    \"6,22\",\n",
    "    \"6,23\",\n",
    "    \"6,21\",\n",
    "    \"7,24\",\n",
    "    \"8,20\",\n",
    "    \"9,23\",\n",
    "    \"10,41\",\n",
    "    \"10,42\",\n",
    "    \"11,19\",\n",
    "    \"11,21\",\n",
    "    \"11,22\",\n",
    "    \"12,18\",\n",
    "    \"12,22\",\n",
    "    \"12,23\",\n",
    "    \"12,38\",\n",
    "    \"12,45\",\n",
    "    \"13,18\",\n",
    "    \"13,37\",\n",
    "    \"14,18\",\n",
    "    \"14,19\",\n",
    "    \"14,21\",\n",
    "    \"15,35\",\n",
    "    \"15,37\",\n",
    "    \"15,38\",\n",
    "    \"16,34\",\n",
    "    \"16,48\",\n",
    "    \"17,23\",\n",
    "    \"17,25\",\n",
    "    \"17,36\",\n",
    "    \"17,47\",\n",
    "    \"17,48\",\n",
    "    \"18,21\",\n",
    "    \"18,27\",\n",
    "    \"18,28\",\n",
    "    \"18,29\",\n",
    "    \"18,30\",\n",
    "    \"18,35\",\n",
    "    \"19,21\",\n",
    "    \"19,22\",\n",
    "    \"19,24\",\n",
    "    \"19,32\",\n",
    "    \"19,33\",\n",
    "    \"19,34\",\n",
    "    \"20,27\",\n",
    "    \"20,28\",\n",
    "    \"22,35\",\n",
    "    \"23,34\",\n",
    "    \"24,18\",\n",
    "    \"24,19\",\n",
    "    \"24,37\",\n",
    "    \"25,18\",\n",
    "    \"25,20\",\n",
    "    \"25,36\",\n",
    "    \"25,38\",\n",
    "    \"26,20\",\n",
    "    \"26,36\",\n",
    "    \"27,20\",\n",
    "    \"28,19\",\n",
    "    \"28,20\",\n",
    "    \"29,15\",\n",
    "    \"29,18\",\n",
    "    \"30,16\",\n",
    "    \"31,20\",\n",
    "    \"31,21\",\n",
    "    \"31,25\",\n",
    "    \"32,19\",\n",
    "    \"32,20\",\n",
    "    \"32,21\",\n",
    "    \"32,25\",\n",
    "    \"34,23\",\n",
    "    \"34,24\",\n",
    "    # Island adjacent\n",
    "    \"33,23\",\n",
    "    \"34,19\",\n",
    "    \"35,19\",\n",
    "    # Platforms/reefs included in AMTI data which do not appear to contain land\n",
    "    \"23,37\",\n",
    "    \"23,38\",\n",
    "    \"24,35\",\n",
    "    \"24,38\",\n",
    "    \"25,35\",\n",
    "    \"26,35\",\n",
    "    \"27,18\",\n",
    "    \"28,15\",\n",
    "    \"28,17\",\n",
    "    \"29,22\",\n",
    "    \"30,17\",\n",
    "    \"30,19\",\n",
    "    \"31,19\",\n",
    "    \"32,17\",\n",
    "    \"32,22\",\n",
    "    \"32,23\",\n",
    "    \"33,17\",\n",
    "    \"33,18\",\n",
    "    \"33,20\",\n",
    "    \"33,21\",\n",
    "    \"34,20\",\n",
    "    \"34,21\",\n",
    "    \"35,20\"\n",
    "]\n",
    "\n",
    "vietnam_coastal_tiles_clipped_filtered = vietnam_coastal_tiles_clipped[~vietnam_coastal_tiles_clipped[\"idx\"].isin(SKIP_TILES)]\n",
    "vietnam_coastal_tiles_clipped_filtered.explore()"
   ]
  },
  {
   "cell_type": "code",
   "execution_count": null,
   "metadata": {},
   "outputs": [],
   "source": [
    "# Export the results as GeoJSON\n",
    "vietnam_coastal_tiles_clipped_filtered.rename(columns={'idx': 'id'}, inplace=True)\n",
    "vietnam_coastal_tiles_clipped_filtered.to_crs(\"EPSG:4326\").to_file(\"../data/raw/vietnam_tiles.geojson\", driver='GeoJSON')"
   ]
  }
 ],
 "metadata": {
  "kernelspec": {
   "display_name": "Python 3",
   "language": "python",
   "name": "python3"
  },
  "language_info": {
   "codemirror_mode": {
    "name": "ipython",
    "version": 3
   },
   "file_extension": ".py",
   "mimetype": "text/x-python",
   "name": "python",
   "nbconvert_exporter": "python",
   "pygments_lexer": "ipython3",
   "version": "3.10.12"
  },
  "orig_nbformat": 4
 },
 "nbformat": 4,
 "nbformat_minor": 2
}
