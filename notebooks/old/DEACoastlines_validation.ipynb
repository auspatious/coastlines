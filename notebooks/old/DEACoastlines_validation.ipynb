{
 "cells": [
  {
   "cell_type": "code",
   "execution_count": null,
   "metadata": {},
   "outputs": [],
   "source": [
    "# !unzip ../data/validation/validation_data.zip"
   ]
  },
  {
   "cell_type": "code",
   "execution_count": 1,
   "metadata": {},
   "outputs": [
    {
     "name": "stdout",
     "output_type": "stream",
     "text": [
      "/home/jovyan/Robbi/dea-coastlines\n"
     ]
    }
   ],
   "source": [
    "cd .."
   ]
  },
  {
   "cell_type": "code",
   "execution_count": 2,
   "metadata": {},
   "outputs": [
    {
     "name": "stdout",
     "output_type": "stream",
     "text": [
      "\u001b[33mWARNING: You are using pip version 22.0.2; however, version 23.0 is available.\n",
      "You should consider upgrading via the '/env/bin/python -m pip install --upgrade pip' command.\u001b[0m\u001b[33m\n",
      "\u001b[0mNote: you may need to restart the kernel to use updated packages.\n"
     ]
    }
   ],
   "source": [
    "pip install -r requirements.in --quiet"
   ]
  },
  {
   "cell_type": "code",
   "execution_count": 3,
   "metadata": {},
   "outputs": [],
   "source": [
    "%load_ext autoreload\n",
    "%autoreload 2\n",
    "\n",
    "import pandas as pd\n",
    "\n",
    "# Load DEA Coastlines code\n",
    "import coastlines.validation\n",
    "\n",
    "\n"
   ]
  },
  {
   "cell_type": "code",
   "execution_count": 4,
   "metadata": {},
   "outputs": [
    {
     "name": "stdout",
     "output_type": "stream",
     "text": [
      "Usage: python -m coastlines.validation [OPTIONS]\n",
      "\n",
      "Options:\n",
      "  --inputs_path TEXT         [required]\n",
      "  --deacl_path TEXT          [required]\n",
      "  --prefix TEXT\n",
      "  --datum TEXT\n",
      "  --overwrite BOOLEAN\n",
      "  --layer_name TEXT\n",
      "  --append_stats BOOLEAN\n",
      "  --parallelised BOOLEAN\n",
      "  --markdown_report BOOLEAN\n",
      "  --help                     Show this message and exit.\n"
     ]
    }
   ],
   "source": [
    "!python -m coastlines.validation --help"
   ]
  },
  {
   "cell_type": "code",
   "execution_count": null,
   "metadata": {},
   "outputs": [],
   "source": [
    "!python -m coastlines.validation --inputs_path data/validation/interim/wrl_narrabeen --deacl_path data/processed/tests/coastlines_tests.gpkg --prefix tests --append_stats True --markdown_report True"
   ]
  },
  {
   "cell_type": "code",
   "execution_count": 10,
   "metadata": {},
   "outputs": [
    {
     "name": "stdout",
     "output_type": "stream",
     "text": [
      "  0%|                                                     | 0/1 [00:00<?, ?it/s]\n",
      "Skipping; file either exists or overwrite set to false\n",
      "Combining data\n",
      "                                 n   mae  rmse  stdev   corr  bias    name\n",
      "time                                                                      \n",
      "2023-02-07 23:30:22.639914  2669.0  4.83  6.14   5.57  0.975 -2.63  v0.0.3\n"
     ]
    }
   ],
   "source": [
    "!python -m coastlines.validation --inputs_path data/validation/interim/wrl_narrabeen --deacl_path data/releases/coastlines_v0.0.3.gpkg --prefix v0.0.3 --append_stats False --markdown_report False"
   ]
  },
  {
   "cell_type": "code",
   "execution_count": 21,
   "metadata": {},
   "outputs": [
    {
     "name": "stdout",
     "output_type": "stream",
     "text": [
      "  0%|                                                     | 0/1 [00:00<?, ?it/s]\n",
      "Skipping; file either exists or overwrite set to false\n",
      "Combining data\n",
      "                                 n  mae  rmse  stdev   corr  bias    name\n",
      "time                                                                     \n",
      "2023-02-08 00:01:06.359381  2669.0  4.8  6.07   5.49  0.976 -2.64  v1.1.0\n"
     ]
    }
   ],
   "source": [
    "!python -m coastlines.validation --inputs_path data/validation/interim/wrl_narrabeen --deacl_path data/releases/DEACoastlines_v1.1.0.gpkg --layer_name DEACoastlines_annualshorelines_v1.1.0  --prefix v1.1.0 --append_stats False --markdown_report True"
   ]
  },
  {
   "cell_type": "code",
   "execution_count": null,
   "metadata": {},
   "outputs": [],
   "source": [
    "# !python -m pytest tests/ -v"
   ]
  },
  {
   "cell_type": "code",
   "execution_count": null,
   "metadata": {},
   "outputs": [],
   "source": [
    "outputs_df, stats_df = coastlines.validation.validation_cli(\n",
    "    inputs_path=\"data/validation/interim/wrl_narrabeen\",\n",
    "    deacl_path=\"data/processed/tests/coastlines_tests.gpkg\",\n",
    "    prefix=\"tests\",\n",
    "    datum=\"0\",\n",
    "    overwrite=False,\n",
    "    layer_name='shorelines_annual',\n",
    "    append_stats=True,\n",
    "    parallelised=True,\n",
    "    markdown_report=True)\n",
    "    \n",
    "\n",
    "prefix='tests'\n",
    "deacl_path=\"data/processed/tests/coastlines_tests.gpkg\""
   ]
  },
  {
   "cell_type": "code",
   "execution_count": null,
   "metadata": {},
   "outputs": [],
   "source": []
  },
  {
   "cell_type": "code",
   "execution_count": null,
   "metadata": {
    "tags": []
   },
   "outputs": [],
   "source": []
  },
  {
   "cell_type": "code",
   "execution_count": null,
   "metadata": {},
   "outputs": [],
   "source": []
  },
  {
   "cell_type": "code",
   "execution_count": null,
   "metadata": {},
   "outputs": [],
   "source": []
  },
  {
   "cell_type": "code",
   "execution_count": null,
   "metadata": {},
   "outputs": [],
   "source": []
  },
  {
   "cell_type": "code",
   "execution_count": null,
   "metadata": {},
   "outputs": [],
   "source": []
  },
  {
   "cell_type": "code",
   "execution_count": null,
   "metadata": {},
   "outputs": [],
   "source": []
  },
  {
   "cell_type": "code",
   "execution_count": null,
   "metadata": {},
   "outputs": [],
   "source": []
  },
  {
   "cell_type": "code",
   "execution_count": null,
   "metadata": {},
   "outputs": [],
   "source": []
  },
  {
   "cell_type": "code",
   "execution_count": null,
   "metadata": {},
   "outputs": [],
   "source": [
    "!python -m coastlines.validation --inputs_path data/validation/interim/cgc --deacl_path data/releases/coastlines_v0.0.3.gpkg --prefix v0.0.3 --append_stats False"
   ]
  },
  {
   "cell_type": "code",
   "execution_count": null,
   "metadata": {},
   "outputs": [],
   "source": [
    "import glob\n",
    "prefix='v0.0.3'\n",
    "\n",
    "print('Combining data')\n",
    "stats_list = glob.glob(f'data/validation/processed/outputs_{prefix}_*.csv')\n",
    "stats_df = pd.concat([pd.read_csv(csv) for csv in stats_list])\n",
    "\n",
    "# Rename smartline categories to smaller subset\n",
    "stats_df['smartline'] = stats_df.smartline.replace(rename_dict)\n",
    "\n",
    "# Run stats\n",
    "stats_df = coastlines.validation.deacl_val_stats(stats_df.val_dist,\n",
    "                stats_df.deacl_dist,\n",
    "                n=stats_df.n,\n",
    "                remove_bias=False)\n",
    "# print(stats_df.T)\n",
    "# stats_df.T.to_csv(f'data/validation/processed/stats_{prefix}.csv')"
   ]
  },
  {
   "cell_type": "code",
   "execution_count": null,
   "metadata": {},
   "outputs": [],
   "source": [
    "# !python -m pytest tests/ -v"
   ]
  },
  {
   "cell_type": "code",
   "execution_count": null,
   "metadata": {},
   "outputs": [],
   "source": []
  },
  {
   "cell_type": "code",
   "execution_count": null,
   "metadata": {},
   "outputs": [],
   "source": []
  },
  {
   "cell_type": "code",
   "execution_count": null,
   "metadata": {},
   "outputs": [],
   "source": []
  },
  {
   "cell_type": "code",
   "execution_count": null,
   "metadata": {},
   "outputs": [],
   "source": [
    "val_df = coastlines.validation.deacl_validation(val_path='data/validation/interim/2020test_narrabeen.csv', deacl_path='data/releases/coastlines_v0.0.3.gpkg', datum=0, prefix='test', overwrite=True, layer_name='shorelines_annual')"
   ]
  },
  {
   "cell_type": "code",
   "execution_count": null,
   "metadata": {},
   "outputs": [],
   "source": []
  },
  {
   "cell_type": "code",
   "execution_count": null,
   "metadata": {},
   "outputs": [],
   "source": []
  },
  {
   "cell_type": "code",
   "execution_count": null,
   "metadata": {},
   "outputs": [],
   "source": []
  },
  {
   "cell_type": "code",
   "execution_count": null,
   "metadata": {},
   "outputs": [],
   "source": [
    "!wget https://dea-public-data-dev.s3-ap-southeast-2.amazonaws.com/derivative/dea_coastlines/v0.0.3/coastlines_v0.0.3.gpkg -P data/releases"
   ]
  },
  {
   "cell_type": "code",
   "execution_count": null,
   "metadata": {},
   "outputs": [],
   "source": [
    "!wget https://data.dea.ga.gov.au/derivative/dea_coastlines/1-1-0/DEACoastlines_gpkg_v1.1.0.zip -P data/releases"
   ]
  },
  {
   "cell_type": "code",
   "execution_count": null,
   "metadata": {},
   "outputs": [],
   "source": [
    "!unzip data/releases/DEACoastlines_gpkg_v1.1.0.zip data/releases"
   ]
  },
  {
   "cell_type": "code",
   "execution_count": null,
   "metadata": {},
   "outputs": [],
   "source": [
    "import glob\n",
    "\n",
    "val_paths = glob.glob('data/validation/interim/*2020test_narrabeen.csv')\n",
    "\n",
    "prefix = 'v0.0.3'\n",
    "deacl_path = 'data/releases/coastlines_v0.0.3.gpkg'\n",
    "layer_name = 'shorelines_annual'\n",
    "\n",
    "# prefix = 'v1.1.0'\n",
    "# deacl_path = 'data/releases/DEACoastlines_v1.1.0.gpkg'\n",
    "# layer_name = 'DEACoastlines_annualshorelines_v1.1.0'"
   ]
  },
  {
   "cell_type": "code",
   "execution_count": null,
   "metadata": {},
   "outputs": [],
   "source": [
    "  \n",
    "# Non-parallel (for testing)\n",
    "for val_path in val_paths:\n",
    "#     try:\n",
    "    coastlines.validation.deacl_validation(val_path=val_path, deacl_path=deacl_path, datum=0, prefix=prefix, overwrite=True, layer_name=layer_name)\n",
    "#     except:\n",
    "#         print"
   ]
  },
  {
   "cell_type": "code",
   "execution_count": null,
   "metadata": {},
   "outputs": [],
   "source": [
    "from concurrent.futures import ProcessPoolExecutor\n",
    "from tqdm import tqdm\n",
    "from itertools import repeat\n",
    "\n",
    "args = [deacl_path, 0, prefix, True]\n",
    "\n",
    "with ProcessPoolExecutor() as executor:\n",
    "\n",
    "    # Apply func in parallel\n",
    "    groups = val_paths\n",
    "    to_iterate = (groups, *(repeat(i, len(groups)) for i in args))\n",
    "    tqdm(executor.map(coastlines.validation.deacl_validation, *to_iterate), total=len(groups))\n"
   ]
  },
  {
   "cell_type": "code",
   "execution_count": null,
   "metadata": {},
   "outputs": [],
   "source": [
    "# Load all results into a single file\n",
    "print('Combining data')\n",
    "stats_list = glob.glob(f'data/validation/processed/{prefix}_*.csv')\n",
    "stats_df = pd.concat([pd.read_csv(csv) for csv in stats_list])\n",
    "\n",
    "# Rename smartline categories to smaller subset\n",
    "stats_df['smartline'] = stats_df.smartline.replace(rename_dict)\n",
    "\n",
    "# Export to file\n",
    "# stats_df.to_csv('deacl_results.csv', index=False)\n",
    "\n",
    "# Run stats\n",
    "coastlines.validation.deacl_val_stats(stats_df.val_dist,\n",
    "                          stats_df.deacl_dist,\n",
    "                          n=stats_df.n,\n",
    "                          remove_bias=True)"
   ]
  },
  {
   "cell_type": "code",
   "execution_count": null,
   "metadata": {},
   "outputs": [],
   "source": [
    "v111 = stats_df.groupby('year').apply(lambda x: coastlines.validation.deacl_val_stats(x.val_dist,\n",
    "                          x.deacl_dist,\n",
    "                          n=x.n,\n",
    "                          remove_bias=True))"
   ]
  },
  {
   "cell_type": "code",
   "execution_count": null,
   "metadata": {},
   "outputs": [],
   "source": [
    "# Load all results into a single file\n",
    "print('Combining data')\n",
    "stats_list = glob.glob(f'data/validation/processed/{prefix}_*.csv')\n",
    "stats_df = pd.concat([pd.read_csv(csv) for csv in stats_list])\n",
    "\n",
    "# Rename smartline categories to smaller subset\n",
    "stats_df['smartline'] = stats_df.smartline.replace(rename_dict)\n",
    "\n",
    "# Export to file\n",
    "# stats_df.to_csv('deacl_results.csv', index=False)\n",
    "\n",
    "# Run stats\n",
    "coastlines.validation.deacl_val_stats(stats_df.val_dist,\n",
    "                          stats_df.deacl_dist,\n",
    "                          n=stats_df.n,\n",
    "                          remove_bias=True)"
   ]
  },
  {
   "cell_type": "code",
   "execution_count": null,
   "metadata": {},
   "outputs": [],
   "source": [
    "v200 = stats_df.groupby('year').apply(lambda x: coastlines.validation.deacl_val_stats(x.val_dist,\n",
    "                          x.deacl_dist,\n",
    "                          n=x.n,\n",
    "                          remove_bias=True))"
   ]
  },
  {
   "cell_type": "code",
   "execution_count": null,
   "metadata": {},
   "outputs": [],
   "source": [
    "v111.rmse.rename('v1.1.0').plot(legend=True)\n",
    "v200.rmse.rename('v2.0.0').plot(legend=True)"
   ]
  },
  {
   "cell_type": "code",
   "execution_count": null,
   "metadata": {},
   "outputs": [],
   "source": [
    "# Stats by substrate, no bias correction\n",
    "by_smartline = stats_df.query(\"n >= 22\").groupby('smartline').apply(\n",
    "    lambda x: coastlines.validation.deacl_val_stats(x.val_dist, x.deacl_dist, x.n))\n",
    "by_smartline_nobias = stats_df.query(\"n >= 22\").groupby('smartline').apply(\n",
    "    lambda x: coastlines.validation.deacl_val_stats(x.val_dist, x.deacl_dist, x.n, True))\n",
    "\n",
    "out = coastlines.validation.rse_tableformat(by_smartline, by_smartline_nobias, 'smartline')\n",
    "out"
   ]
  },
  {
   "cell_type": "code",
   "execution_count": null,
   "metadata": {},
   "outputs": [],
   "source": [
    "# Stats by substrate, no bias correction\n",
    "by_smartline = stats_df.query(\"n < 22\").groupby('smartline').apply(\n",
    "    lambda x: coastlines.validation.deacl_val_stats(x.val_dist, x.deacl_dist, x.n))\n",
    "by_smartline_nobias = stats_df.query(\"n < 22\").groupby('smartline').apply(\n",
    "    lambda x: coastlines.validation.deacl_val_stats(x.val_dist, x.deacl_dist, x.n, True))\n",
    "\n",
    "out = coastlines.validation.rse_tableformat(by_smartline, by_smartline_nobias, 'smartline')\n",
    "out"
   ]
  },
  {
   "cell_type": "code",
   "execution_count": null,
   "metadata": {},
   "outputs": [],
   "source": [
    "# !pip install git+https://github.com/GeoscienceAustralia/dea-intertidal.git"
   ]
  },
  {
   "cell_type": "code",
   "execution_count": null,
   "metadata": {},
   "outputs": [],
   "source": [
    "from intertidal import validation"
   ]
  },
  {
   "cell_type": "code",
   "execution_count": null,
   "metadata": {},
   "outputs": [],
   "source": [
    "validation.eval_metrics(x=stats_df.val_dist, y=stats_df.deacl_dist)"
   ]
  },
  {
   "cell_type": "code",
   "execution_count": null,
   "metadata": {},
   "outputs": [],
   "source": [
    "by_source = stats_df.groupby('source').apply(\n",
    "    lambda x: coastlines.validation.deacl_val_stats(x.val_dist, x.deacl_dist, x.n))\n",
    "by_source_nobias = stats_df.groupby('source').apply(\n",
    "    lambda x: coastlines.validation.deacl_val_stats(x.val_dist, x.deacl_dist, x.n, True))\n",
    "\n",
    "coastlines.validation.rse_tableformat(by_source, by_source_nobias)\n"
   ]
  },
  {
   "cell_type": "code",
   "execution_count": null,
   "metadata": {},
   "outputs": [],
   "source": [
    "import matplotlib.pyplot as plt\n",
    "import numpy as np\n",
    "import seaborn as sns\n",
    "\n",
    "# Print stats and plot scatterplot\n",
    "stats_subset = stats_df  \n",
    "\n",
    "\n",
    "def val_plot(df, \n",
    "             title='Validation',\n",
    "             scatter=True, \n",
    "             density=False,\n",
    "             time=True, \n",
    "             time_stat='mean',\n",
    "             time_legend_pos=[0.8, 0.035],\n",
    "             offset=0,\n",
    "             extent=(0, 120),\n",
    "             scatter_kwargs={}, \n",
    "             time_kwargs={}):\n",
    "    \n",
    "    # Copy data and apply offset\n",
    "    df = df.copy()\n",
    "    df['error_m'] += offset\n",
    "    df['deacl_dist'] += offset\n",
    "\n",
    "    # Compute stats  \n",
    "    n, mae, rmse, stdev, corr, bias = coastlines.validation.deacl_val_stats(\n",
    "        val_dist=df.val_dist, \n",
    "        deacl_dist=df.deacl_dist)    \n",
    "    offset_str = 'landward offset' if bias > 0 else 'ocean-ward offset'\n",
    "\n",
    "    if scatter:\n",
    "        \n",
    "        # Plot data as scatterplot\n",
    "        fig, ax = plt.subplots(figsize=(8, 8))\n",
    "        df.plot.scatter(x='val_dist',\n",
    "                        y='deacl_dist',\n",
    "                        s=15,\n",
    "                        edgecolors='black',\n",
    "                        linewidth=0,\n",
    "#                         xlim=extent,\n",
    "#                         ylim=extent,\n",
    "                        ax=ax,\n",
    "                        **scatter_kwargs)\n",
    "        \n",
    "        # Add dashed line\n",
    "        \n",
    "        \n",
    "        ax.plot(\n",
    "                np.linspace(df.loc[:, ['deacl_dist', 'val_dist']].values.min(), \n",
    "                            df.loc[:, ['deacl_dist', 'val_dist']].values.max()),\n",
    "                np.linspace(df.loc[:, ['deacl_dist', 'val_dist']].values.min(), \n",
    "                            df.loc[:, ['deacl_dist', 'val_dist']].values.max()),\n",
    "                color='black',\n",
    "                linestyle='dashed')\n",
    "        \n",
    "        ax.set_xlabel(f'{title} (metres along profile)')\n",
    "        ax.set_ylabel(f'DEA Coastlines (metres along profile)')\n",
    "        \n",
    "        # Add annotation\n",
    "        ax.annotate(f'Mean Absolute Error: {mae:.1f} m\\n' \\\n",
    "                    f'RMSE: {rmse:.1f} m\\n' \\\n",
    "                    f'Standard deviation: {stdev:.1f} m\\n' \\\n",
    "                    f'Bias: {bias:.1f} m {offset_str}\\n' \\\n",
    "                    f'Correlation: {corr:.2f}\\n',\n",
    "                    xy=(0.04, 0.75),\n",
    "                    fontsize=14,\n",
    "                    xycoords='axes fraction')\n",
    "\n",
    "        # Set title\n",
    "        plt.gca().set_title(f'DEA Coastlines vs {title}', weight='bold')\n",
    "        \n",
    "        # Export to file        \n",
    "        fig.savefig(f\"{title}_scatter_offset{offset:.1f}.png\", dpi=300)\n",
    "        \n",
    "    if density:\n",
    "        \n",
    "        fig, ax = plt.subplots(figsize=(8, 8))\n",
    "\n",
    "        g = sns.kdeplot(ax=ax,\n",
    "                        data=df.val_dist,\n",
    "                        data2=df.deacl_dist, \n",
    "                        cmap='YlOrRd', \n",
    "                        shade=True,\n",
    "                        bw=3,\n",
    "                        shade_lowest=False,\n",
    "                        clip=(extent, extent))\n",
    "\n",
    "        g.set(xlabel=f'{title} (metres along profile)', \n",
    "              ylabel=f'DEA Coastlines (metres along profile)')\n",
    "        ax.set_title(f'DEA Coastlines vs {title}', weight='bold')\n",
    "\n",
    "        # Add stats annotation\n",
    "        ax.annotate(f'Mean Absolute Error: {mae:.1f} m\\n' \\\n",
    "                    f'RMSE: {rmse:.1f} m\\n' \\\n",
    "                    f'Standard deviation: {stdev:.1f} m\\n' \\\n",
    "                    f'Bias: {bias:.1f} m {offset_str}\\n' \\\n",
    "                    f'Correlation: {corr:.2f}\\n',\n",
    "                    xy=(0.04, 0.75),\n",
    "                    fontsize=14,\n",
    "                    xycoords='axes fraction')\n",
    "\n",
    "        # Add diagonal line\n",
    "        plt.gca().plot(np.linspace(*extent), \n",
    "                       np.linspace(*extent),\n",
    "                       color='black',\n",
    "                       linestyle='dashed')\n",
    "        \n",
    "        plt.gca().set_ylim(bottom=extent[0])\n",
    "        plt.gca().set_xlim(left=extent[0])\n",
    "\n",
    "        # Export to file\n",
    "        fig = g.get_figure()\n",
    "        fig.savefig(f\"{title}_heatmap_offset{offset:.1f}.png\", dpi=300)\n",
    "        \n",
    "    if time:\n",
    "        \n",
    "        # Group by beach and apply statistic\n",
    "        stats_grouped = (df.groupby(['beach', 'year'], as_index=False)\n",
    "                         .aggregate(time_stat)\n",
    "                         .rename({'beach': 'id',\n",
    "                                  'deacl_dist': 'DEA Coastlines',\n",
    "                                  'val_dist': title}, axis=1)\n",
    "                         .groupby('id')\n",
    "                         .filter(lambda x: len(x) > 1))\n",
    "\n",
    "        # Melt data into long format for faceted plotting\n",
    "        stats_melted = pd.melt(stats_grouped, \n",
    "                               id_vars=['id', 'year'],\n",
    "                               value_vars=['DEA Coastlines', title],\n",
    "                               value_name='Distance (m)')\n",
    "\n",
    "        # Plot facet data\n",
    "        g = sns.relplot(data=stats_melted,\n",
    "                        x=\"year\", \n",
    "                        y=\"Distance (m)\", \n",
    "                        col=\"id\", \n",
    "                        hue=\"variable\",\n",
    "                        height=1.7, \n",
    "                        aspect=1.0, \n",
    "                        kind=\"line\", \n",
    "                        legend='full', \n",
    "                        col_wrap=5,\n",
    "                        **time_kwargs)\n",
    "        plt.subplots_adjust(top=0.9)\n",
    "        g.fig.suptitle(f'DEA Coastlines vs {title}', \n",
    "                       weight='bold', \n",
    "                       ha='right')\n",
    "        \n",
    "        # Simplify titles\n",
    "        g.set_titles(row_template='{row_name}', \n",
    "                     col_template='{col_name}')\n",
    "\n",
    "        # Customise legend\n",
    "        g._legend.texts[0].set_text(\"\")\n",
    "        g._legend.set_bbox_to_anchor(time_legend_pos)\n",
    "        \n",
    "        # Export to file\n",
    "        g.savefig(f\"{title}_time_offset{offset:.1f}.png\", dpi=300)\n",
    "        \n",
    "    return pd.Series({'Mean Absolute Error': mae, \n",
    "                    f'RMSE': rmse,\n",
    "                    f'Standard deviation': stdev,\n",
    "                    f'Bias': f'{bias:.1f} m {offset_str}',\n",
    "                    f'Correlation': corr})\n",
    "\n",
    "# for i, sub in stats_subset.groupby('smartline'):\n",
    "\n",
    "#     # Run analysis\n",
    "#     g = val_plot(df=sub,  # stats_subset,\n",
    "#                  title=i.replace('/', '-'),\n",
    "#                  scatter=True, \n",
    "#                  density=False,\n",
    "#                  time=False,\n",
    "#                  time_stat='median',\n",
    "#                  time_legend_pos=[0.67, 0.11],\n",
    "#                  offset=0,\n",
    "#                  extent=(0, 1000))\n",
    "\n",
    "# Run analysis\n",
    "g = val_plot(df=stats_subset,  # stats_subset,\n",
    "         title='',\n",
    "         scatter=True, \n",
    "         density=False,\n",
    "         time=False,\n",
    "         time_stat='median',\n",
    "         time_legend_pos=[0.67, 0.11],\n",
    "         offset=0,\n",
    "         extent=(0, 300))"
   ]
  },
  {
   "cell_type": "code",
   "execution_count": null,
   "metadata": {},
   "outputs": [],
   "source": []
  }
 ],
 "metadata": {
  "kernelspec": {
   "display_name": "Python 3 (ipykernel)",
   "language": "python",
   "name": "python3"
  },
  "language_info": {
   "codemirror_mode": {
    "name": "ipython",
    "version": 3
   },
   "file_extension": ".py",
   "mimetype": "text/x-python",
   "name": "python",
   "nbconvert_exporter": "python",
   "pygments_lexer": "ipython3",
   "version": "3.8.10"
  },
  "widgets": {
   "application/vnd.jupyter.widget-state+json": {
    "state": {},
    "version_major": 2,
    "version_minor": 0
   }
  }
 },
 "nbformat": 4,
 "nbformat_minor": 4
}
