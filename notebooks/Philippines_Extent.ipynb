{
 "cells": [
  {
   "cell_type": "code",
   "execution_count": null,
   "metadata": {},
   "outputs": [],
   "source": [
    "import os\n",
    "\n",
    "os.environ[\"USE_PYGEOS\"] = \"0\"\n",
    "\n",
    "import geopandas as gpd\n",
    "import pandas as pd\n",
    "from odc.geo import BoundingBox\n",
    "from coastlines.grids import PHILIPPINES_25, PHILIPPINES_CRS"
   ]
  },
  {
   "cell_type": "code",
   "execution_count": null,
   "metadata": {},
   "outputs": [],
   "source": [
    "# Select relevant tiles and convert to Geopandas\n",
    "bounds = BoundingBox(115, 3, 130, 23, crs=\"EPSG:4326\").to_crs(PHILIPPINES_CRS)\n",
    "geom = PHILIPPINES_25.geojson(bbox=bounds)\n",
    "tiles_projected = gpd.GeoDataFrame.from_features(geom, crs=\"EPSG:4326\").to_crs(\n",
    "    PHILIPPINES_CRS\n",
    ")\n",
    "\n",
    "tiles_projected.explore()"
   ]
  },
  {
   "cell_type": "code",
   "execution_count": null,
   "metadata": {},
   "outputs": [],
   "source": [
    "# Get PH boundaries from humdata\n",
    "# https://data.humdata.org/dataset/cod-ab-phl\n",
    "url = \"/Users/alex/Data/Coastlines/ph_boundaries.fgb\"\n",
    "\n",
    "phl_adm = gpd.read_file(url)"
   ]
  },
  {
   "cell_type": "code",
   "execution_count": null,
   "metadata": {},
   "outputs": [],
   "source": [
    "ph_simple = phl_adm.simplify(0.001)\n",
    "\n",
    "ph_simple.explore()"
   ]
  },
  {
   "cell_type": "code",
   "execution_count": null,
   "metadata": {},
   "outputs": [],
   "source": [
    "# Prepare a dataset that contains continental coastlines with a 15 km buffer\n",
    "area_limit = 1e9\n",
    "ph = ph_simple.to_crs(PHILIPPINES_CRS)\n",
    "small_islands = ph[ph.geometry.area < area_limit]\n",
    "large_islands = ph[ph.geometry.area >= area_limit]\n",
    "\n",
    "# Buffer the long coastlines boundaries\n",
    "coast = large_islands.boundary.buffer(15_000)\n",
    "# And the small islands\n",
    "islands = small_islands.buffer(15_000)\n",
    "\n",
    "# Now merge them together\n",
    "buffered = pd.concat([coast, islands])\n",
    "\n",
    "aoi = gpd.GeoDataFrame(buffered, geometry=buffered.geometry).dissolve()\n",
    "aoi.explore()"
   ]
  },
  {
   "cell_type": "code",
   "execution_count": null,
   "metadata": {},
   "outputs": [],
   "source": [
    "# Clip tiles to AOI\n",
    "coastal_tiles = tiles_projected.clip(aoi)"
   ]
  },
  {
   "cell_type": "code",
   "execution_count": null,
   "metadata": {},
   "outputs": [],
   "source": [
    "# Dump a simple list of all tile_ids in a text file\n",
    "coastal_tiles[\"idx\"].to_csv(\n",
    "    \"../data/raw/philippines_tile_ids.txt\", index=False, header=False\n",
    ")"
   ]
  },
  {
   "cell_type": "code",
   "execution_count": null,
   "metadata": {},
   "outputs": [],
   "source": [
    "# These tiles can be removed safely\n",
    "SKIP_TILES = []\n",
    "\n",
    "coastal_tiles_filtered = coastal_tiles[~coastal_tiles[\"idx\"].isin(SKIP_TILES)]\n",
    "coastal_tiles_filtered.explore()"
   ]
  },
  {
   "cell_type": "code",
   "execution_count": null,
   "metadata": {},
   "outputs": [],
   "source": [
    "# Export the results as GeoJSON\n",
    "coastal_tiles_filtered.rename(columns={\"idx\": \"id\"}, inplace=True)\n",
    "coastal_tiles_filtered.to_crs(\"EPSG:4326\").to_file(\n",
    "    \"../data/raw/philippines_tiles.geojson\", driver=\"GeoJSON\"\n",
    ")"
   ]
  }
 ],
 "metadata": {
  "kernelspec": {
   "display_name": "Python 3",
   "language": "python",
   "name": "python3"
  },
  "language_info": {
   "codemirror_mode": {
    "name": "ipython",
    "version": 3
   },
   "file_extension": ".py",
   "mimetype": "text/x-python",
   "name": "python",
   "nbconvert_exporter": "python",
   "pygments_lexer": "ipython3",
   "version": "3.11.6"
  },
  "orig_nbformat": 4
 },
 "nbformat": 4,
 "nbformat_minor": 2
}
