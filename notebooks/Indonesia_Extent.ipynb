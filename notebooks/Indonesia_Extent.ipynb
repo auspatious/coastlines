{
 "cells": [
  {
   "cell_type": "code",
   "execution_count": null,
   "metadata": {},
   "outputs": [],
   "source": [
    "import os\n",
    "\n",
    "import geopandas as gpd\n",
    "import pandas as pd\n",
    "from odc.geo import BoundingBox\n",
    "\n",
    "from coastlines.grids import INDONESIA_25, INDONESIA_CRS\n",
    "\n",
    "os.environ[\"USE_PYGEOS\"] = \"0\""
   ]
  },
  {
   "cell_type": "code",
   "execution_count": null,
   "metadata": {},
   "outputs": [],
   "source": [
    "# Select relevant tiles and convert to Geopandas\n",
    "bounds = BoundingBox(94, -11, 142, 6, crs=\"EPSG:4326\").to_crs(INDONESIA_CRS)\n",
    "geom = INDONESIA_25.geojson(bbox=bounds)\n",
    "tiles_projected = gpd.GeoDataFrame.from_features(geom, crs=\"EPSG:4326\").to_crs(\n",
    "    INDONESIA_CRS\n",
    ")\n",
    "\n",
    "tiles_projected.explore()"
   ]
  },
  {
   "cell_type": "code",
   "execution_count": null,
   "metadata": {},
   "outputs": [],
   "source": [
    "# Get Indonesion boundaries from ucdavis\n",
    "# Indo admin0 \n",
    "url = \"https://geodata.ucdavis.edu/gadm/gadm4.1/json/gadm41_IDN_0.json\"\n",
    "indo_adm = gpd.read_file(url)\n",
    "\n",
    "# Clip admin0 to sample sites\n",
    "sample_sites = \"https://s3.ap-southeast-2.amazonaws.com/files.auspatious.com/coastlines/indonesia_four_sites.geojson\"\n",
    "indo_adm_sample = gpd.read_file(sample_sites)\n",
    "\n",
    "indo_adm = indo_adm.clip(indo_adm_sample)\n",
    "indo_adm_explode = indo_adm.explode()\n",
    "\n",
    "indo_adm_explode.explore()"
   ]
  },
  {
   "cell_type": "code",
   "execution_count": null,
   "metadata": {},
   "outputs": [],
   "source": [
    "# Prepare a dataset that contains continental coastlines with a 15 km buffer\n",
    "area_limit = 1e9\n",
    "indo = indo_adm_explode.to_crs(INDONESIA_CRS)\n",
    "small_islands = indo[indo.geometry.area < area_limit]\n",
    "large_islands = indo[indo.geometry.area >= area_limit]\n",
    "\n",
    "# Buffer the long coastlines boundaries\n",
    "coast = large_islands.boundary.buffer(15_000)\n",
    "# And the small islands\n",
    "islands = small_islands.buffer(15_000)\n",
    "\n",
    "# Now merge them together\n",
    "buffered = pd.concat([coast, islands])\n",
    "\n",
    "aoi = gpd.GeoDataFrame(buffered, geometry=buffered.geometry).dissolve()\n",
    "aoi.explore()"
   ]
  },
  {
   "cell_type": "code",
   "execution_count": null,
   "metadata": {},
   "outputs": [],
   "source": [
    "\n",
    "# Clip tiles to AOI\n",
    "coastal_tiles = tiles_projected.clip(aoi)\n",
    "coastal_tiles.explore()\n"
   ]
  },
  {
   "cell_type": "code",
   "execution_count": null,
   "metadata": {},
   "outputs": [],
   "source": [
    "# Dump a simple list of all tile_ids in a text file\n",
    "coastal_tiles[\"idx\"].to_csv(\n",
    "    \"../data/raw/indonesia_sample_tile_ids.txt\", index=False, header=False\n",
    ")"
   ]
  },
  {
   "cell_type": "code",
   "execution_count": null,
   "metadata": {},
   "outputs": [],
   "source": [
    "# These tiles can be removed safely\n",
    "SKIP_TILES = [\n",
    "    # Edges and tiny areas\n",
    "    \"24,9\",\n",
    "    \"24,11\",\n",
    "    \"29,12\",\n",
    "    \"30,12\",\n",
    "    \"30,70\",\n",
    "    \"45,5\",\n",
    "    \"46,5\",\n",
    "    \"58,9\",\n",
    "    \"58,11\",\n",
    "    \"59,8\",\n",
    "    \"60,8\",\n",
    "    \"63,0\",\n",
    "    \"63,1\",\n",
    "    \"65,3\",\n",
    "    \"67,1\",\n",
    "    \"67,2\",\n",
    "    # inland...\n",
    "    \"24,14\",\n",
    "    \"24,13\",\n",
    "    \"25,14\",\n",
    "    \"25,13\",\n",
    "    \"27,10\",\n",
    "    \"27,14\",\n",
    "    \"30,9\",\n",
    "    \"30,10\",\n",
    "    \"67,3\",\n",
    "]\n",
    "\n",
    "\n",
    "coastal_tiles_filtered = coastal_tiles[~coastal_tiles[\"idx\"].isin(SKIP_TILES)]\n",
    "coastal_tiles_filtered.explore()"
   ]
  },
  {
   "cell_type": "code",
   "execution_count": null,
   "metadata": {},
   "outputs": [],
   "source": [
    "# Export the results as GeoJSON\n",
    "coastal_tiles_filtered.rename(columns={\"idx\": \"id\"})\n",
    "coastal_tiles_filtered.to_crs(\"EPSG:4326\").to_file(\n",
    "    \"../data/raw/indonesia_tiles.geojson\", driver=\"GeoJSON\"\n",
    ")"
   ]
  }
 ],
 "metadata": {
  "kernelspec": {
   "display_name": "coastlines",
   "language": "python",
   "name": "python3"
  },
  "language_info": {
   "codemirror_mode": {
    "name": "ipython",
    "version": 3
   },
   "file_extension": ".py",
   "mimetype": "text/x-python",
   "name": "python",
   "nbconvert_exporter": "python",
   "pygments_lexer": "ipython3",
   "version": "3.11.11"
  }
 },
 "nbformat": 4,
 "nbformat_minor": 2
}
