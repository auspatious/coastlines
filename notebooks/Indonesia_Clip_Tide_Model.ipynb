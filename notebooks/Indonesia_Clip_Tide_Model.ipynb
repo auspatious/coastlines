{
 "cells": [
  {
   "cell_type": "code",
   "execution_count": null,
   "metadata": {},
   "outputs": [],
   "source": [
    "from pathlib import Path\n",
    "from eo_tides.utils import clip_models"
   ]
  },
  {
   "cell_type": "code",
   "execution_count": null,
   "metadata": {},
   "outputs": [],
   "source": [
    "# traverse path and process files\n",
    "\n",
    "input_dir = Path('/home/ubuntu/tide_models/')\n",
    "output_dir = Path('/home/ubuntu/tide_models_indo')\n",
    "\n",
    "clip_models(\n",
    "    input_directory=input_dir,\n",
    "    output_directory=output_dir,\n",
    "    bbox=(94, -11, 142, 6)\n",
    ")"
   ]
  }
 ],
 "metadata": {
  "kernelspec": {
   "display_name": "coastlines",
   "language": "python",
   "name": "python3"
  },
  "language_info": {
   "codemirror_mode": {
    "name": "ipython",
    "version": 3
   },
   "file_extension": ".py",
   "mimetype": "text/x-python",
   "name": "python",
   "nbconvert_exporter": "python",
   "pygments_lexer": "ipython3",
   "version": "3.11.11"
  }
 },
 "nbformat": 4,
 "nbformat_minor": 2
}
