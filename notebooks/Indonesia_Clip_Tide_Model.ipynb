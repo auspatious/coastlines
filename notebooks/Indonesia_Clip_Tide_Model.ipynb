{
 "cells": [
  {
   "cell_type": "code",
   "execution_count": 1,
   "metadata": {},
   "outputs": [],
   "source": [
    "from pathlib import Path\n",
    "import xarray as xr"
   ]
  },
  {
   "cell_type": "code",
   "execution_count": null,
   "metadata": {},
   "outputs": [],
   "source": [
    "# traverse path and process files\n",
    "\n",
    "input_dir = Path('/home/ubuntu/tide_models/fes2022b')\n",
    "output_dir = Path('/home/ubuntu/tide_models_clipped/fes2022b')\n",
    "\n",
    "def _fix_encoding(encoding: dict) -> dict:\n",
    "    good_keys = [\"shuffle\", \"zlib\", \"complevel\", \"dtype\", \"_FillValue\"]\n",
    "    return {k: v for k, v in encoding.items() if k in good_keys}\n",
    "\n",
    "for path in input_dir.glob(\"*/*.nc\"):\n",
    "    with open(path, \"rb\") as nc:\n",
    "        print(f\"Clipping {path}\")\n",
    "        src = xr.open_dataset(nc, engine=\"h5netcdf\")\n",
    "        output = src.where(\n",
    "             (src.lat > -11) & (src.lat < 6) & (src.lon > 94) & (src.lon < 142),\n",
    "             drop=True,\n",
    "         )\n",
    "\n",
    "        subdir = path.parent.relative_to(input_dir)\n",
    "        output_filename = f\"{path.with_suffix('').stem}.nc\"\n",
    "\n",
    "        full_output_dir = output_dir / subdir\n",
    "        full_output_dir.mkdir(parents=True, exist_ok=True)\n",
    "\n",
    "        output_path = f\"{full_output_dir}/{output_filename}\"\n",
    "\n",
    "\n",
    "        encoding = {var: _fix_encoding(src[var].encoding) for var in src}\n",
    "        output.to_netcdf(\n",
    "            output_path,\n",
    "            encoding=encoding,\n",
    "            engine=\"h5netcdf\",\n",
    "        )\n",
    "\n"
   ]
  }
 ],
 "metadata": {
  "kernelspec": {
   "display_name": "coastlines",
   "language": "python",
   "name": "python3"
  },
  "language_info": {
   "codemirror_mode": {
    "name": "ipython",
    "version": 3
   },
   "file_extension": ".py",
   "mimetype": "text/x-python",
   "name": "python",
   "nbconvert_exporter": "python",
   "pygments_lexer": "ipython3",
   "version": "3.11.11"
  }
 },
 "nbformat": 4,
 "nbformat_minor": 2
}
