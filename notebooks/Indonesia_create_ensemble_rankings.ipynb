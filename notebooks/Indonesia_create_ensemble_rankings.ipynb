{
 "cells": [
  {
   "cell_type": "markdown",
   "id": "635f8d49",
   "metadata": {},
   "source": [
    "# Indonesian ensemble rankings creation\n",
    "\n",
    "This notebook creates a rankings file that ranks supplied tide models at specified coastal locations.\n",
    "At each location, the NDWI inundation index from landsat and sentinal 2 satellite imagery is correlated against each tide\n",
    "model, with the result used to rank the accuracy of each tide model.  A high correlation, i.e. a result that is\n",
    "close to 1, has a higher ranking than a result that is closer to zero or a negative number.   "
   ]
  },
  {
   "cell_type": "markdown",
   "id": "0fd2a9a6",
   "metadata": {},
   "source": [
    "### Load packages"
   ]
  },
  {
   "cell_type": "code",
   "execution_count": null,
   "id": "882ea068",
   "metadata": {},
   "outputs": [],
   "source": [
    "import pandas as pd\n",
    "import geopandas as gpd\n",
    "from datacube.utils.dask import start_local_dask\n",
    "from eo_tides.validation import model_rankings_ndwi\n",
    "\n",
    "import os\n",
    "os.environ[\"USE_PYGEOS\"] = \"0\""
   ]
  },
  {
   "cell_type": "markdown",
   "id": "6e4fe601",
   "metadata": {},
   "source": [
    "## Dask client\n",
    "Create local dask client for parallelisation"
   ]
  },
  {
   "cell_type": "code",
   "execution_count": null,
   "id": "20af9b49",
   "metadata": {},
   "outputs": [],
   "source": [
    "# Create local dask client for parallelisation\n",
    "dask_client = start_local_dask(\n",
    "    n_workers=16, threads_per_worker=8, mem_safety_margin=\"2GB\"\n",
    ")\n",
    "\n",
    "print(\n",
    "    dask_client.dashboard_link.replace(\n",
    "        \"/user\", \"https://hub.asia.easi-eo.solutions/user\"\n",
    "    )\n",
    ")"
   ]
  },
  {
   "cell_type": "markdown",
   "id": "ffe6c193",
   "metadata": {},
   "source": [
    "### Tide Models\n",
    "\n",
    "Set model and model data location"
   ]
  },
  {
   "cell_type": "code",
   "execution_count": null,
   "id": "f0550f3a",
   "metadata": {},
   "outputs": [],
   "source": [
    "# Params\n",
    "model_list =[\n",
    "    'FES2014', 'FES2022', 'EOT20', 'TPXO9-atlas-v5-nc', 'TPXO10-atlas-v2-nc', 'GOT5.6'\n",
    "]\n",
    "model_directory = \"../../tide_models_indo\""
   ]
  },
  {
   "cell_type": "markdown",
   "id": "38651fd7",
   "metadata": {},
   "source": [
    "### Points of interest\n",
    "\n",
    "Create a point every x kms along the Indonesian coastline\n",
    "\n",
    "1. Download https://public.opendatasoft.com/api/explore/v2.1/catalog/datasets/world-administrative-boundaries/exports/geojson\n",
    "2. Extract Indonesian boundary.\n",
    "3. Reproject Indonesian boundary to EPSG:32651 - WGS 84 / UTM zone 51N.\n",
    "4. Convert polygon to linestring.\n",
    "5. Create points along linestring every 10km\n",
    "6. Clip to aoi (using 4km buffer of baseline coastline (2021))"
   ]
  },
  {
   "cell_type": "code",
   "execution_count": null,
   "id": "27cc0951",
   "metadata": {},
   "outputs": [],
   "source": [
    "poi_file = \"s3://files.auspatious.com/coastlines/indonesia_coastline_10km_points_aoi.geojson\""
   ]
  },
  {
   "cell_type": "markdown",
   "id": "49e3efe3",
   "metadata": {},
   "source": [
    "### Tide rankings\n",
    "For each point/location, correlate NDWI inundation with tide model and rank"
   ]
  },
  {
   "cell_type": "code",
   "execution_count": null,
   "id": "5b740595",
   "metadata": {},
   "outputs": [],
   "source": [
    "# Input tide ranking locations\n",
    "poi = gpd.read_file(poi_file).to_crs('EPSG:4326')\n",
    "coords = poi.geometry.get_coordinates()\n",
    "\n",
    "out_list = []\n",
    "\n",
    "# Loop through tide ranking locations and determine tide ranking\n",
    "for index, row in coords.iterrows():\n",
    "\n",
    "    print (f\"Processing {row['x']}, {row['y']}\")\n",
    "    corr_df, _ = model_rankings_ndwi(\n",
    "        x=row['x'],\n",
    "        y=row['y'],\n",
    "        time_range=(\"2020\", \"2022\"),\n",
    "        model=model_list,\n",
    "        directory=model_directory,\n",
    "    )\n",
    "\n",
    "    out_list.append(corr_df)"
   ]
  },
  {
   "cell_type": "markdown",
   "id": "225c5d25",
   "metadata": {},
   "source": [
    "### Data wrangling\n",
    "\n",
    "Change the shape of the data to suit the tide model functions from eo-tides"
   ]
  },
  {
   "cell_type": "code",
   "execution_count": null,
   "id": "e914e4b2",
   "metadata": {},
   "outputs": [],
   "source": [
    "\n",
    "# Concatenate outputs and move \"x\", \"y\", \"statistic\" to columns\n",
    "df_reset = pd.concat(out_list).reset_index()\n",
    "#print(df_reset)\n",
    "# Pivot to get one row per (x, y), with columns for each model/statistic,\n",
    "# and flatten the multi-index columns into a single string\n",
    "df_wide = df_reset.pivot(index=[\"x\", \"y\"], columns=\"statistic\")\n",
    "print(df_wide)\n",
    "df_wide.columns = [f\"{stat}_{col}\" for col, stat in df_wide.columns]\n",
    "\n",
    "# Create GeoDataFrame with geometry from x and y columns\n",
    "model_rankings_gdf = gpd.GeoDataFrame(\n",
    "    df_wide,\n",
    "    geometry=gpd.points_from_xy(\n",
    "        df_wide.index.get_level_values(\"x\"), df_wide.index.get_level_values(\"y\")\n",
    "    ),\n",
    "    crs=\"EPSG:4326\",\n",
    ")"
   ]
  },
  {
   "cell_type": "markdown",
   "id": "986e204e",
   "metadata": {},
   "source": [
    "### Output\n",
    "Save the result as a flatgeobuf file"
   ]
  },
  {
   "cell_type": "code",
   "execution_count": null,
   "id": "f154aad3",
   "metadata": {},
   "outputs": [],
   "source": [
    "model_rankings_gdf_export = model_rankings_gdf.rename(columns={'rank_valid_perc': 'valid_perc'})\n",
    "model_rankings_gdf_export.to_file ('indo_model_ranking.fgb', driver='FlatGeobuf')"
   ]
  },
  {
   "cell_type": "markdown",
   "id": "d625237f",
   "metadata": {},
   "source": [
    "### Close Dask client"
   ]
  },
  {
   "cell_type": "code",
   "execution_count": null,
   "id": "4daf65df",
   "metadata": {},
   "outputs": [],
   "source": [
    "dask_client.close()"
   ]
  }
 ],
 "metadata": {
  "kernelspec": {
   "display_name": "coastlines",
   "language": "python",
   "name": "python3"
  },
  "language_info": {
   "codemirror_mode": {
    "name": "ipython",
    "version": 3
   },
   "file_extension": ".py",
   "mimetype": "text/x-python",
   "name": "python",
   "nbconvert_exporter": "python",
   "pygments_lexer": "ipython3",
   "version": "3.11.11"
  }
 },
 "nbformat": 4,
 "nbformat_minor": 5
}
