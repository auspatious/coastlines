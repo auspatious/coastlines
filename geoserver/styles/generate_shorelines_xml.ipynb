{
 "cells": [
  {
   "cell_type": "code",
   "execution_count": 1,
   "metadata": {},
   "outputs": [],
   "source": [
    "import matplotlib as mpl\n",
    "from lxml import etree"
   ]
  },
  {
   "cell_type": "code",
   "execution_count": 2,
   "metadata": {},
   "outputs": [],
   "source": [
    "start_year = 1985\n",
    "end_year = 2023\n",
    "\n",
    "# Interpolate the inferno colour ramp between the two years\n",
    "cmap = mpl.colormaps[\"inferno\"]\n",
    "norm = mpl.colors.Normalize(vmin=start_year, vmax=end_year)\n",
    "\n",
    "# Get the values from the colour ramp as hex\n",
    "hex_values = {}\n",
    "for i in range(start_year, end_year + 1):\n",
    "    rgb = cmap(norm(i))\n",
    "    hex_values[i] = mpl.colors.rgb2hex(rgb)"
   ]
  },
  {
   "cell_type": "code",
   "execution_count": 3,
   "metadata": {},
   "outputs": [],
   "source": [
    "# Open the base\n",
    "base = \"\"\"\n",
    "<sld:StyledLayerDescriptor xmlns=\"http://www.opengis.net/sld\" xmlns:sld=\"http://www.opengis.net/sld\" xmlns:gml=\"http://www.opengis.net/gml\" xmlns:ogc=\"http://www.opengis.net/ogc\" version=\"1.0.0\">\n",
    "    <sld:NamedLayer>\n",
    "        <sld:Name>coastlines_shorelines_annual</sld:Name>\n",
    "        <sld:UserStyle>\n",
    "            <sld:Name>coastlines_shorelines_annual</sld:Name>\n",
    "            <sld:FeatureTypeStyle>\n",
    "                <sld:Name>name</sld:Name>\n",
    "                <sld:VendorOption name=\"sortBy\">year</sld:VendorOption>\n",
    "            </sld:FeatureTypeStyle>\n",
    "        </sld:UserStyle>\n",
    "    </sld:NamedLayer>\n",
    "</sld:StyledLayerDescriptor>\n",
    "\"\"\"\n",
    "\n",
    "tree = etree.fromstring(base)"
   ]
  },
  {
   "cell_type": "code",
   "execution_count": 4,
   "metadata": {},
   "outputs": [],
   "source": [
    "one_rule = \"\"\"\n",
    "                <sld:Rule xmlns=\"http://www.opengis.net/sld\" xmlns:sld=\"http://www.opengis.net/sld\" xmlns:gml=\"http://www.opengis.net/gml\" xmlns:ogc=\"http://www.opengis.net/ogc\">\n",
    "                    <sld:Name>{year}</sld:Name>\n",
    "                    <sld:Title>{year} ({quality} quality shorelines)</sld:Title>\n",
    "                    <ogc:Filter>\n",
    "                        <ogc:And>\n",
    "                            <ogc:Property{is_isnot}EqualTo>\n",
    "                                <ogc:PropertyName>certainty</ogc:PropertyName>\n",
    "                                <ogc:Literal>good</ogc:Literal>\n",
    "                            </ogc:Property{is_isnot}EqualTo>\n",
    "                            <ogc:PropertyIsEqualTo>\n",
    "                                <ogc:PropertyName>year</ogc:PropertyName>\n",
    "                                <ogc:Literal>{year}</ogc:Literal>\n",
    "                            </ogc:PropertyIsEqualTo>\n",
    "                        </ogc:And>\n",
    "                    </ogc:Filter>\n",
    "                    <sld:MaxScaleDenominator>50000.0</sld:MaxScaleDenominator>\n",
    "                    <sld:LineSymbolizer>\n",
    "                        <sld:Stroke>\n",
    "                            <sld:CssParameter name=\"stroke\">{color}</sld:CssParameter>\n",
    "                            <sld:CssParameter name=\"stroke-linecap\">square</sld:CssParameter>\n",
    "                            <sld:CssParameter name=\"stroke-linejoin\">bevel</sld:CssParameter>\n",
    "                            {stroke}\n",
    "                        </sld:Stroke>\n",
    "                    </sld:LineSymbolizer>\n",
    "                </sld:Rule>\n",
    "\"\"\"\n",
    "\n",
    "good_stroke = \"\"\"<sld:CssParameter name=\"stroke-width\">2</sld:CssParameter>\"\"\"\n",
    "bad_stroke = \"\"\"<sld:CssParameter name=\"stroke-dasharray\">5.0 3.5</sld:CssParameter>\"\"\"\n",
    "\n",
    "# Add a bunch of rules in after sld:FeatureTypeStyle\n",
    "feature_type_style = tree.find(\".//sld:FeatureTypeStyle\", namespaces=tree.nsmap)\n",
    "\n",
    "for certainty in [\"good\", \"bad\"]:\n",
    "    for year, color in hex_values.items():\n",
    "        rule = one_rule.format(\n",
    "            year=year,\n",
    "            quality=certainty,\n",
    "            is_isnot=\"Is\" if certainty == \"good\" else \"IsNot\",\n",
    "            color=color,\n",
    "            stroke=good_stroke if certainty == \"good\" else bad_stroke,\n",
    "        )\n",
    "\n",
    "        rule_xml = etree.fromstring(rule)\n",
    "        feature_type_style.append(rule_xml)"
   ]
  },
  {
   "cell_type": "code",
   "execution_count": 5,
   "metadata": {},
   "outputs": [],
   "source": [
    "# Labels\n",
    "final_rule = \"\"\"\n",
    "        <sld:Rule xmlns=\"http://www.opengis.net/sld\" xmlns:sld=\"http://www.opengis.net/sld\" xmlns:gml=\"http://www.opengis.net/gml\" xmlns:ogc=\"http://www.opengis.net/ogc\">\n",
    "            <sld:MaxScaleDenominator>10000.0</sld:MaxScaleDenominator>\n",
    "            <sld:TextSymbolizer>\n",
    "                <sld:Label>\n",
    "                    <ogc:PropertyName>year</ogc:PropertyName>\n",
    "                </sld:Label>\n",
    "                <sld:Font>\n",
    "                    <sld:CssParameter name=\"font-family\">SansSerif.plain</sld:CssParameter>\n",
    "                    <sld:CssParameter name=\"font-size\">13</sld:CssParameter>\n",
    "                    <sld:CssParameter name=\"font-style\">normal</sld:CssParameter>\n",
    "                    <sld:CssParameter name=\"font-weight\">normal</sld:CssParameter>\n",
    "                </sld:Font>\n",
    "                <sld:LabelPlacement>\n",
    "                    <sld:LinePlacement />\n",
    "                </sld:LabelPlacement>\n",
    "                <sld:Halo>\n",
    "                    <sld:Radius>2</sld:Radius>\n",
    "                    <sld:Fill>\n",
    "                        <sld:CssParameter name=\"fill\">#000000</sld:CssParameter>\n",
    "                        <sld:CssParameter name=\"fill-opacity\">0.477</sld:CssParameter>\n",
    "                    </sld:Fill>\n",
    "                </sld:Halo>\n",
    "                <sld:Fill>\n",
    "                    <sld:CssParameter name=\"fill\">#ffffff</sld:CssParameter>\n",
    "                </sld:Fill>\n",
    "            </sld:TextSymbolizer>\n",
    "        </sld:Rule>\n",
    "\"\"\"\n",
    "\n",
    "# Add the final_rule to the list of <sld:Rule> inside </sld:FeatureTypeStyle>\n",
    "final_rule_xml = etree.fromstring(final_rule)\n",
    "feature_type_style.append(final_rule_xml)"
   ]
  },
  {
   "cell_type": "code",
   "execution_count": 6,
   "metadata": {},
   "outputs": [],
   "source": [
    "# Write it out\n",
    "with open(\"coastlines_shorelines_annual.sld\", \"wb\") as f:\n",
    "    f.write(etree.tostring(tree, pretty_print=True))"
   ]
  },
  {
   "cell_type": "code",
   "execution_count": null,
   "metadata": {},
   "outputs": [],
   "source": []
  }
 ],
 "metadata": {
  "kernelspec": {
   "display_name": "Python 3",
   "language": "python",
   "name": "python3"
  },
  "language_info": {
   "codemirror_mode": {
    "name": "ipython",
    "version": 3
   },
   "file_extension": ".py",
   "mimetype": "text/x-python",
   "name": "python",
   "nbconvert_exporter": "python",
   "pygments_lexer": "ipython3",
   "version": "3.11.6"
  }
 },
 "nbformat": 4,
 "nbformat_minor": 2
}
