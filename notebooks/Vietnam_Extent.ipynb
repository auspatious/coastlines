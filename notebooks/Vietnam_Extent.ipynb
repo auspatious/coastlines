{
 "cells": [
  {
   "cell_type": "code",
   "execution_count": null,
   "metadata": {},
   "outputs": [],
   "source": [
    "import os\n",
    "\n",
    "os.environ[\"USE_PYGEOS\"] = \"0\"\n",
    "\n",
    "import fiona\n",
    "import geopandas as gpd\n",
    "import pandas as pd\n",
    "import requests\n",
    "from odc.geo import XY, BoundingBox\n",
    "from odc.geo.gridspec import GridSpec"
   ]
  },
  {
   "cell_type": "code",
   "execution_count": null,
   "metadata": {},
   "outputs": [],
   "source": [
    "# Create a gridspec for Vietnam\n",
    "vietnam_epsg = \"EPSG:3405\"\n",
    "vietnam_gridspec = GridSpec(crs=vietnam_epsg, tile_shape=(2000,2000), resolution=25, origin=XY(0, 0))"
   ]
  },
  {
   "cell_type": "code",
   "execution_count": null,
   "metadata": {},
   "outputs": [],
   "source": [
    "# Select relevant tiles and convert to Geopandas\n",
    "bounds = BoundingBox(100, 0, 125, 25, crs=\"EPSG:4326\").to_crs(vietnam_epsg)\n",
    "geom = vietnam_gridspec.geojson(bbox=bounds)\n",
    "tiles_projected = gpd.GeoDataFrame.from_features(geom, crs=\"EPSG:4326\").to_crs(vietnam_epsg)"
   ]
  },
  {
   "cell_type": "code",
   "execution_count": null,
   "metadata": {},
   "outputs": [],
   "source": [
    "# Get the Natural Earth country boundaries dataset\n",
    "ne_url = \"https://naciscdn.org/naturalearth/10m/cultural/ne_10m_admin_0_countries.zip\"\n",
    "natural_earth_10m = gpd.read_file(ne_url)"
   ]
  },
  {
   "cell_type": "code",
   "execution_count": null,
   "metadata": {},
   "outputs": [],
   "source": [
    "# Prepare a dataset that contains continental coastlines with a 15 km buffer\n",
    "vietnam = natural_earth_10m[natural_earth_10m[\"ADMIN\"] == \"Vietnam\"].to_crs(vietnam_epsg)\n",
    "asia = natural_earth_10m[natural_earth_10m[\"CONTINENT\"] == \"Asia\"]\n",
    "asia_coast = asia.dissolve().boundary.to_crs(vietnam_epsg)\n",
    "asia_coast_buffer = asia_coast.buffer(15_000)\n",
    "\n",
    "# Pick out coasts that are within 50 km of Vietnam\n",
    "vietnam_coasts = vietnam.buffer(50_000).clip(asia_coast_buffer.set_crs(vietnam_epsg))"
   ]
  },
  {
   "cell_type": "code",
   "execution_count": null,
   "metadata": {},
   "outputs": [],
   "source": [
    "# Use OpenStreetMap data for small islands excluded from NE coastlines\n",
    "# Download the OSM global land polygons from https://osmdata.openstreetmap.de/data/land-polygons.html\n",
    "# Manually edit the downloaded file \"land_polygons.shp\" to include only features of interest\n",
    "# Save the coastline of interest as geojson file at \"data/raw/osm_islands.geojson\"\n",
    "# Open the coastline geojson file using fiona\n",
    "osm_islands_polygon = gpd.read_file(\"../data/raw/osm_islands.geojson\")\n",
    "osm_islands_polygon.set_crs(\"EPSG:4326\")\n",
    "osm_islands_polygon = osm_islands_polygon.to_crs(vietnam_epsg)\n",
    "\n",
    "# Buffer polygons to 15 km\n",
    "osm_islands_buffer = osm_islands_polygon.buffer(15_000)"
   ]
  },
  {
   "cell_type": "code",
   "execution_count": null,
   "metadata": {},
   "outputs": [],
   "source": [
    "# Include remaining very small islands with data from https://amti.csis.org/scs-features-map/\n",
    "# Filter the downloaded file \"All_SCS_Features.gpkg\" using Rock = 'Y' and manually edit the file to include only features of interest\n",
    "# Save the points as geojson file at \"data/raw/amti_islands.geojson\n",
    "# Read data\n",
    "amti_islands_point = gpd.read_file(\"../data/raw/amti_islands.geojson\")\n",
    "amti_islands_point.set_crs(\"EPSG:4326\")\n",
    "amti_islands_point = amti_islands_point.to_crs(vietnam_epsg)\n",
    "\n",
    "# Buffer points to 15 km\n",
    "amti_islands_buffer = amti_islands_point.buffer(15_000)"
   ]
  },
  {
   "cell_type": "code",
   "execution_count": null,
   "metadata": {},
   "outputs": [],
   "source": [
    "# Define AOI as union of continental and island datasets\n",
    "aoi = gpd.GeoDataFrame(pd.concat([osm_islands_buffer, amti_islands_buffer, vietnam_coasts], ignore_index=True), geometry=0).unary_union"
   ]
  },
  {
   "cell_type": "code",
   "execution_count": null,
   "metadata": {},
   "outputs": [],
   "source": [
    "# Clip tiles to AOI\n",
    "vietnam_coastal_tiles_clipped = tiles_projected.clip(aoi)\n",
    "vietnam_coastal_tiles_clipped.plot()"
   ]
  },
  {
   "cell_type": "code",
   "execution_count": null,
   "metadata": {},
   "outputs": [],
   "source": [
    "# These are tiles where there aren't any scenes.\n",
    "# TODO: investigate and remove from the tiles.geojson\n",
    "tiles_to_skip = [\n",
    "    \"28,15\",\n",
    "    \"29,16\",\n",
    "    \"30,16\",\n",
    "    \"27,17\",\n",
    "    \"28,17\",\n",
    "    \"27,18\",\n",
    "    \"28,18\",\n",
    "    \"26,19\",\n",
    "    \"27,19\",\n",
    "    \"28,19\",\n",
    "    \"29,17\",\n",
    "    \"30,17\",\n",
    "    \"29,18\",\n",
    "    \"30,18\",\n",
    "    \"29,19\",\n",
    "    \"30,19\",\n",
    "    \"31,19\",\n",
    "    \"32,19\",\n",
    "    \"26,20\",\n",
    "    \"28,20\",\n",
    "    \"29,20\",\n",
    "    \"31,20\"\n",
    "]"
   ]
  },
  {
   "cell_type": "code",
   "execution_count": null,
   "metadata": {},
   "outputs": [],
   "source": [
    "# Export the results as GeoJSON\n",
    "vietnam_coastal_tiles_clipped.rename(columns={'idx': 'id'}, inplace=True)\n",
    "vietnam_coastal_tiles_clipped.to_crs(\"EPSG:4326\").to_file(\"../data/raw/vietnam_tiles.geojson\", driver='GeoJSON')"
   ]
  }
 ],
 "metadata": {
  "kernelspec": {
   "display_name": "Python 3",
   "language": "python",
   "name": "python3"
  },
  "language_info": {
   "codemirror_mode": {
    "name": "ipython",
    "version": 3
   },
   "file_extension": ".py",
   "mimetype": "text/x-python",
   "name": "python",
   "nbconvert_exporter": "python",
   "pygments_lexer": "ipython3",
   "version": "3.11.4"
  },
  "orig_nbformat": 4
 },
 "nbformat": 4,
 "nbformat_minor": 2
}
