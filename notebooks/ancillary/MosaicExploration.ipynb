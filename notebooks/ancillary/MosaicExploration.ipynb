{
 "cells": [
  {
   "cell_type": "code",
   "execution_count": null,
   "metadata": {},
   "outputs": [],
   "source": [
    "import odc.geo.xr  # noqa\n",
    "from odc.stac import load, configure_s3_access\n",
    "from pystac_client import Client\n",
    "\n",
    "from coastlines.combined import http_to_s3_url\n",
    "\n",
    "from odc.algo import to_f32, mask_cleanup"
   ]
  },
  {
   "cell_type": "code",
   "execution_count": null,
   "metadata": {},
   "outputs": [],
   "source": [
    "catalog = \"https://landsatlook.usgs.gov/stac-server/\"\n",
    "client = Client.open(catalog)\n",
    "\n",
    "_ = configure_s3_access(cloud_defaults=True, requester_pays=True)"
   ]
  },
  {
   "cell_type": "code",
   "execution_count": null,
   "metadata": {},
   "outputs": [],
   "source": [
    "bbox = (118.59041, 9.89017, 118.92507, 10.14109)\n",
    "\n",
    "items = list(\n",
    "    client.search(bbox=bbox, datetime=\"2023\", collections=[\"landsat-c2l2-sr\"]).items()\n",
    ")\n",
    "\n",
    "print(f\"Found {len(items)} items\")"
   ]
  },
  {
   "cell_type": "code",
   "execution_count": null,
   "metadata": {},
   "outputs": [],
   "source": [
    "data = load(\n",
    "    items,\n",
    "    bbox=bbox,\n",
    "    chunks=dict(time=1, x=2048, y=2048),\n",
    "    patch_url=http_to_s3_url,\n",
    "    bands=[\"green\", \"nir08\", \"swir16\", \"qa_pixel\"],\n",
    ")\n",
    "\n",
    "# Get the nodata mask, just for the two main bands\n",
    "nodata_mask = (data.green == 0) | (data.swir16 == 0)\n",
    "\n",
    "# Get cloud and cloud shadow mask\n",
    "mask_bitfields = [3, 4]  # cloud, cloud shadow\n",
    "bitmask = 0\n",
    "for field in mask_bitfields:\n",
    "    bitmask |= 1 << field\n",
    "\n",
    "# Get cloud mask\n",
    "cloud_mask = data[\"qa_pixel\"].astype(int) & bitmask != 0\n",
    "# Expand and contract the mask to clean it up\n",
    "# DE Africa uses 10 and 5, which Alex doesn't like!\n",
    "dilated_cloud_mask = mask_cleanup(cloud_mask, [(\"opening\", 5), (\"dilation\", 6)])\n",
    "\n",
    "# Convert to float and scale data to 0-1\n",
    "for var in [\"green\", \"nir08\", \"swir16\"]:\n",
    "    data[var] = to_f32(data[var], scale=0.0000275, offset=-0.2)\n",
    "\n",
    "# Remove values outside the valid range (0-1), but not for nir or awei bands\n",
    "invalid_ard_values = (\n",
    "    (data[\"green\"] < 0)\n",
    "    | (data[\"green\"] > 1)\n",
    "    | (data[\"swir16\"] < 0)\n",
    "    | (data[\"swir16\"] > 1)\n",
    "    | (data[\"nir08\"] < 0)\n",
    "    | (data[\"nir08\"] > 1)\n",
    ")\n",
    "\n",
    "data[\"scaled_green\"] = (data[\"green\"] + (1 - data[\"nir08\"])) / 2\n",
    "data[\"scaled_swir\"] = (data[\"swir16\"] + data[\"nir08\"]) / 2\n",
    "data[\"alex\"] = (data.scaled_green - data.scaled_swir) / (\n",
    "    data.scaled_green + data.scaled_swir\n",
    ")\n",
    "\n",
    "# Mask the data, setting the nodata value to `nan`\n",
    "final_mask = nodata_mask | dilated_cloud_mask | invalid_ard_values\n",
    "masked = data.where(~final_mask)\n",
    "masked"
   ]
  },
  {
   "cell_type": "code",
   "execution_count": null,
   "metadata": {},
   "outputs": [],
   "source": [
    "median = (\n",
    "    masked[[\"green\", \"nir08\", \"swir16\", \"alex\", \"scaled_green\", \"scaled_swir\"]]\n",
    "    .median(\"time\")\n",
    "    .compute()\n",
    ")\n",
    "median"
   ]
  },
  {
   "cell_type": "code",
   "execution_count": null,
   "metadata": {},
   "outputs": [],
   "source": [
    "median.scaled_swir.plot.hist(bins=100)"
   ]
  },
  {
   "cell_type": "code",
   "execution_count": null,
   "metadata": {},
   "outputs": [],
   "source": [
    "median.alex.odc.explore(cmap=\"RdBu\")"
   ]
  },
  {
   "cell_type": "code",
   "execution_count": null,
   "metadata": {},
   "outputs": [],
   "source": []
  }
 ],
 "metadata": {
  "kernelspec": {
   "display_name": "env",
   "language": "python",
   "name": "python3"
  },
  "language_info": {
   "codemirror_mode": {
    "name": "ipython",
    "version": 3
   },
   "file_extension": ".py",
   "mimetype": "text/x-python",
   "name": "python",
   "nbconvert_exporter": "python",
   "pygments_lexer": "ipython3",
   "version": "3.11.6"
  }
 },
 "nbformat": 4,
 "nbformat_minor": 2
}
